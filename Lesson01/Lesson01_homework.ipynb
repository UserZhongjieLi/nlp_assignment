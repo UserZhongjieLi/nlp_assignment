{
 "cells": [
  {
   "cell_type": "markdown",
   "metadata": {},
   "source": [
    "# 基础理论部分"
   ]
  },
  {
   "cell_type": "markdown",
   "metadata": {},
   "source": [
    "0. Can you come up out 3 sceneraies which use AI methods?\n",
    "\n",
    "Ans: Smart question and answer, robot, face recognition, speech recognition, etc.\n",
    "\n",
    "1. How do we use Github; Why do we use Jupyter and Pycharm;\n",
    "\n",
    "Ans: Github is a must for every real programmer. Steps: register an account, create a repository, configure Git, and then use Git for code hosting services to facilitate code version control. Jupyter can see the results of running your own programs in real time. Pycharm is a development environment commonly used in company development projects, which is convenient for large-scale project development and easy to use.\n",
    "\n",
    "2. What's the Probability Model?\n",
    "\n",
    "Ans:The probability model is the joint probability distribution or conditional probability distribution of the observed pair X, Y under the system parameter w, ie P(Y, X|w). In the face of large sample data, a probability model is generally used.\n",
    "\n",
    "3. Can you came up with some sceneraies at which we could use Probability Model?\n",
    "\n",
    "Ans:Prediction of diabetes, text classification, poetry generation, etc.\n",
    "\n",
    "4. Why do we use probability and what's the difficult points for programming based on parsing and pattern match?\n",
    "\n",
    "Ans:Faced with a large amount of data, a probabilistic model is generally used to judge which results are more accurate. Parsing and pattern matching are implemented based on text rules. They cannot be applied to all texts and have certain limitations. Moreover, the quantity and quality of data are relatively high.\n",
    "\n",
    "5. What's the Language Model?\n",
    "\n",
    "Ans:The language model is a model used to calculate the probability of a sentence appearing.\n",
    "\n",
    "6. Can you came up with some sceneraies at which we could use Language Model?\n",
    "\n",
    "Ans:dialogue generation, intelligent question and answer, translation.\n",
    "\n",
    "7. What's the 1-gram language model?\n",
    "\n",
    "Ans:In the 1-gram language model, each word is independently distributed and there is no connection between them.\n",
    "\n",
    "8. What's the disadvantages and advantages of 1-gram language model?\n",
    "\n",
    "Ans:Advantages: easy to calculate; disadvantages: no consideration of the relationship between the context, the calculation results are likely to be inaccurate.\n",
    "\n",
    "9. What't the 2-gram models?\n",
    "\n",
    "Ans:Each word in the 2-gram model is associated with the nearest word on its left.\n",
    "\n"
   ]
  },
  {
   "cell_type": "markdown",
   "metadata": {},
   "source": [
    "# 编程实践部分"
   ]
  },
  {
   "cell_type": "markdown",
   "metadata": {},
   "source": [
    "# 1、设计自己的句子生成器"
   ]
  },
  {
   "cell_type": "code",
   "execution_count": 10,
   "metadata": {
    "collapsed": true
   },
   "outputs": [],
   "source": [
    "import random"
   ]
  },
  {
   "cell_type": "code",
   "execution_count": 33,
   "metadata": {
    "collapsed": true
   },
   "outputs": [],
   "source": [
    "robot = \"\"\"\n",
    "robot = 寒暄 类别 介绍 问询 业务相关 结尾\n",
    "自己 = 我 | 俺 | 我们 \n",
    "类别 = 我是 类型 机器人 ,\n",
    "类型 = 债权债务纠纷 | 婚姻家庭纠纷 | 交通事故纠纷 | 金融纠纷 | 民事纠纷 | 刑事纠纷 | 医疗纠纷 | 房产纠纷\n",
    "介绍 = 我叫 名字 ,\n",
    "名字 = 小智 | 小艾 | 小度 | 小美 | Siri \n",
    "问询 = 请问您要 | 您需要\n",
    "业务相关 = 询问 | 咨询 | 打听\n",
    "寒暄 = 称谓 打招呼 | 打招呼\n",
    "称谓 = 人称 ,\n",
    "人称 = 先生 | 女士 | 小朋友 | 同学\n",
    "打招呼 = 你好 , | 您好  ,\n",
    "结尾 = 什么吗？\n",
    "\"\"\""
   ]
  },
  {
   "cell_type": "code",
   "execution_count": 34,
   "metadata": {
    "collapsed": true
   },
   "outputs": [],
   "source": [
    "def create_grammar(grammar_str, split='=', line_split='\\n'):\n",
    "    grammar = {}\n",
    "    for line in grammar_str.split(line_split):\n",
    "        if not line.strip(): #如果line去掉空格等字符后不为空\n",
    "            continue\n",
    "        exp, stmt = line.split(split)  #用'=>'进行分割\n",
    "        grammar[exp.strip()] = [s.split() for s in stmt.split(\"|\")]\n",
    "    return grammar\n"
   ]
  },
  {
   "cell_type": "code",
   "execution_count": 35,
   "metadata": {
    "collapsed": true
   },
   "outputs": [],
   "source": [
    "test = create_grammar(robot)"
   ]
  },
  {
   "cell_type": "code",
   "execution_count": 36,
   "metadata": {},
   "outputs": [
    {
     "name": "stdout",
     "output_type": "stream",
     "text": [
      "{'robot': [['寒暄', '类别', '介绍', '问询', '业务相关', '结尾']], '自己': [['我'], ['俺'], ['我们']], '类别': [['我是', '类型', '机器人', ',']], '类型': [['债权债务纠纷'], ['婚姻家庭纠纷'], ['交通事故纠纷'], ['金融纠纷'], ['民事纠纷'], ['刑事纠纷'], ['医疗纠纷'], ['房产纠纷']], '介绍': [['我叫', '名字', ',']], '名字': [['小智'], ['小艾'], ['小度'], ['小美'], ['Siri']], '问询': [['请问您要'], ['您需要']], '业务相关': [['询问'], ['咨询'], ['打听']], '寒暄': [['称谓', '打招呼'], ['打招呼']], '称谓': [['人称', ',']], '人称': [['先生'], ['女士'], ['小朋友'], ['同学']], '打招呼': [['你好', ','], ['您好', ',']], '结尾': [['什么吗？']]}\n"
     ]
    }
   ],
   "source": [
    "print(test)"
   ]
  },
  {
   "cell_type": "code",
   "execution_count": 37,
   "metadata": {
    "collapsed": true
   },
   "outputs": [],
   "source": [
    "def generate(gram,target):\n",
    "    if target not in gram:\n",
    "        return target  #\n",
    "    expaned = [generate(gram, t) for t in random.choice(gram[target])]\n",
    "    # return ''.join([e for e in expaned if e != 'null'])\n",
    "    return ''.join([e for e in expaned if e != 'null'])"
   ]
  },
  {
   "cell_type": "code",
   "execution_count": 38,
   "metadata": {
    "collapsed": true
   },
   "outputs": [],
   "source": [
    "test_result = generate(test,'robot')"
   ]
  },
  {
   "cell_type": "code",
   "execution_count": 25,
   "metadata": {},
   "outputs": [
    {
     "name": "stdout",
     "output_type": "stream",
     "text": [
      "女士,您好,我是民事纠纷机器人,我叫Siri,您需要询问什么吗？\n"
     ]
    }
   ],
   "source": [
    "print(test_result)"
   ]
  },
  {
   "cell_type": "code",
   "execution_count": 39,
   "metadata": {
    "collapsed": true
   },
   "outputs": [],
   "source": [
    "def generate_num(k): \n",
    "    for i in range(1,k):\n",
    "        print(generate(create_grammar(robot),'robot'))"
   ]
  },
  {
   "cell_type": "code",
   "execution_count": 195,
   "metadata": {},
   "outputs": [
    {
     "name": "stdout",
     "output_type": "stream",
     "text": [
      "你好,我是金融纠纷机器人,我叫小度,您需要询问什么吗？\n",
      "女士,您好,我是婚姻家庭纠纷机器人,我叫小智,请问您要打听什么吗？\n",
      "先生,你好,我是债权债务纠纷机器人,我叫Siri,请问您要询问什么吗？\n",
      "同学,你好,我是金融纠纷机器人,我叫小度,请问您要咨询什么吗？\n",
      "你好,我是医疗纠纷机器人,我叫小智,请问您要询问什么吗？\n",
      "你好,我是刑事纠纷机器人,我叫小美,您需要咨询什么吗？\n",
      "小朋友,你好,我是婚姻家庭纠纷机器人,我叫Siri,您需要打听什么吗？\n",
      "女士,您好,我是医疗纠纷机器人,我叫小度,请问您要咨询什么吗？\n",
      "小朋友,您好,我是债权债务纠纷机器人,我叫小度,请问您要咨询什么吗？\n",
      "你好,我是医疗纠纷机器人,我叫Siri,请问您要咨询什么吗？\n",
      "你好,我是医疗纠纷机器人,我叫小智,您需要打听什么吗？\n",
      "你好,我是房产纠纷机器人,我叫Siri,您需要咨询什么吗？\n",
      "先生,您好,我是交通事故纠纷机器人,我叫Siri,请问您要询问什么吗？\n",
      "小朋友,你好,我是金融纠纷机器人,我叫小美,您需要打听什么吗？\n",
      "你好,我是民事纠纷机器人,我叫小智,您需要咨询什么吗？\n",
      "同学,你好,我是刑事纠纷机器人,我叫小度,请问您要询问什么吗？\n",
      "您好,我是交通事故纠纷机器人,我叫Siri,您需要打听什么吗？\n",
      "你好,我是金融纠纷机器人,我叫小美,您需要打听什么吗？\n",
      "小朋友,您好,我是刑事纠纷机器人,我叫小艾,您需要咨询什么吗？\n"
     ]
    }
   ],
   "source": [
    "generate_num(20)"
   ]
  },
  {
   "cell_type": "code",
   "execution_count": 201,
   "metadata": {
    "collapsed": true
   },
   "outputs": [],
   "source": [
    "def generate_num1(): \n",
    "    return[generate(create_grammar(robot),'robot') for i in range(20)]"
   ]
  },
  {
   "cell_type": "code",
   "execution_count": 202,
   "metadata": {},
   "outputs": [
    {
     "data": {
      "text/plain": [
       "['先生,您好,我是交通事故纠纷机器人,我叫小美,请问您要打听什么吗？',\n",
       " '你好,我是民事纠纷机器人,我叫小美,请问您要打听什么吗？',\n",
       " '同学,您好,我是医疗纠纷机器人,我叫Siri,请问您要打听什么吗？',\n",
       " '同学,您好,我是债权债务纠纷机器人,我叫小艾,请问您要打听什么吗？',\n",
       " '你好,我是婚姻家庭纠纷机器人,我叫小美,您需要询问什么吗？',\n",
       " '你好,我是刑事纠纷机器人,我叫小智,请问您要询问什么吗？',\n",
       " '小朋友,您好,我是金融纠纷机器人,我叫Siri,您需要咨询什么吗？',\n",
       " '先生,你好,我是债权债务纠纷机器人,我叫小美,请问您要咨询什么吗？',\n",
       " '女士,你好,我是婚姻家庭纠纷机器人,我叫小度,您需要咨询什么吗？',\n",
       " '你好,我是交通事故纠纷机器人,我叫小智,请问您要询问什么吗？',\n",
       " '同学,您好,我是医疗纠纷机器人,我叫小度,请问您要咨询什么吗？',\n",
       " '你好,我是刑事纠纷机器人,我叫小美,您需要询问什么吗？',\n",
       " '您好,我是婚姻家庭纠纷机器人,我叫Siri,请问您要打听什么吗？',\n",
       " '您好,我是医疗纠纷机器人,我叫小美,请问您要打听什么吗？',\n",
       " '您好,我是民事纠纷机器人,我叫小艾,请问您要咨询什么吗？',\n",
       " '您好,我是婚姻家庭纠纷机器人,我叫小度,您需要咨询什么吗？',\n",
       " '女士,你好,我是民事纠纷机器人,我叫小智,您需要询问什么吗？',\n",
       " '女士,你好,我是婚姻家庭纠纷机器人,我叫小度,您需要询问什么吗？',\n",
       " '您好,我是房产纠纷机器人,我叫小智,请问您要询问什么吗？',\n",
       " '小朋友,你好,我是房产纠纷机器人,我叫Siri,请问您要打听什么吗？']"
      ]
     },
     "execution_count": 202,
     "metadata": {},
     "output_type": "execute_result"
    }
   ],
   "source": [
    "generate_num1()"
   ]
  },
  {
   "cell_type": "markdown",
   "metadata": {},
   "source": [
    "# 2.使用新数据源完成语言模型训练"
   ]
  },
  {
   "cell_type": "code",
   "execution_count": 41,
   "metadata": {
    "collapsed": true
   },
   "outputs": [],
   "source": [
    "import random"
   ]
  },
  {
   "cell_type": "code",
   "execution_count": 48,
   "metadata": {
    "collapsed": true
   },
   "outputs": [],
   "source": [
    "filename = r'C:\\Users\\Administrator\\Desktop\\nlp_data\\datasource-master\\movie_comments.csv'"
   ]
  },
  {
   "cell_type": "code",
   "execution_count": 50,
   "metadata": {
    "collapsed": true
   },
   "outputs": [],
   "source": [
    "import pandas as pd"
   ]
  },
  {
   "cell_type": "code",
   "execution_count": 52,
   "metadata": {},
   "outputs": [
    {
     "name": "stderr",
     "output_type": "stream",
     "text": [
      "E:\\Anaconda\\lib\\site-packages\\IPython\\core\\interactiveshell.py:2698: DtypeWarning: Columns (0,4) have mixed types. Specify dtype option on import or set low_memory=False.\n",
      "  interactivity=interactivity, compiler=compiler, result=result)\n"
     ]
    }
   ],
   "source": [
    "content = pd.read_csv(filename)"
   ]
  },
  {
   "cell_type": "code",
   "execution_count": 53,
   "metadata": {},
   "outputs": [
    {
     "data": {
      "text/html": [
       "<div>\n",
       "<style>\n",
       "    .dataframe thead tr:only-child th {\n",
       "        text-align: right;\n",
       "    }\n",
       "\n",
       "    .dataframe thead th {\n",
       "        text-align: left;\n",
       "    }\n",
       "\n",
       "    .dataframe tbody tr th {\n",
       "        vertical-align: top;\n",
       "    }\n",
       "</style>\n",
       "<table border=\"1\" class=\"dataframe\">\n",
       "  <thead>\n",
       "    <tr style=\"text-align: right;\">\n",
       "      <th></th>\n",
       "      <th>id</th>\n",
       "      <th>link</th>\n",
       "      <th>name</th>\n",
       "      <th>comment</th>\n",
       "      <th>star</th>\n",
       "    </tr>\n",
       "  </thead>\n",
       "  <tbody>\n",
       "    <tr>\n",
       "      <th>0</th>\n",
       "      <td>1</td>\n",
       "      <td>https://movie.douban.com/subject/26363254/</td>\n",
       "      <td>战狼2</td>\n",
       "      <td>吴京意淫到了脑残的地步，看了恶心想吐</td>\n",
       "      <td>1</td>\n",
       "    </tr>\n",
       "    <tr>\n",
       "      <th>1</th>\n",
       "      <td>2</td>\n",
       "      <td>https://movie.douban.com/subject/26363254/</td>\n",
       "      <td>战狼2</td>\n",
       "      <td>首映礼看的。太恐怖了这个电影，不讲道理的，完全就是吴京在实现他这个小粉红的英雄梦。各种装备轮...</td>\n",
       "      <td>2</td>\n",
       "    </tr>\n",
       "    <tr>\n",
       "      <th>2</th>\n",
       "      <td>3</td>\n",
       "      <td>https://movie.douban.com/subject/26363254/</td>\n",
       "      <td>战狼2</td>\n",
       "      <td>吴京的炒作水平不输冯小刚，但小刚至少不会用主旋律来炒作…吴京让人看了不舒服，为了主旋律而主旋...</td>\n",
       "      <td>2</td>\n",
       "    </tr>\n",
       "    <tr>\n",
       "      <th>3</th>\n",
       "      <td>4</td>\n",
       "      <td>https://movie.douban.com/subject/26363254/</td>\n",
       "      <td>战狼2</td>\n",
       "      <td>凭良心说，好看到不像《战狼1》的续集，完虐《湄公河行动》。</td>\n",
       "      <td>4</td>\n",
       "    </tr>\n",
       "    <tr>\n",
       "      <th>4</th>\n",
       "      <td>5</td>\n",
       "      <td>https://movie.douban.com/subject/26363254/</td>\n",
       "      <td>战狼2</td>\n",
       "      <td>中二得很</td>\n",
       "      <td>1</td>\n",
       "    </tr>\n",
       "  </tbody>\n",
       "</table>\n",
       "</div>"
      ],
      "text/plain": [
       "  id                                        link name  \\\n",
       "0  1  https://movie.douban.com/subject/26363254/  战狼2   \n",
       "1  2  https://movie.douban.com/subject/26363254/  战狼2   \n",
       "2  3  https://movie.douban.com/subject/26363254/  战狼2   \n",
       "3  4  https://movie.douban.com/subject/26363254/  战狼2   \n",
       "4  5  https://movie.douban.com/subject/26363254/  战狼2   \n",
       "\n",
       "                                             comment star  \n",
       "0                                 吴京意淫到了脑残的地步，看了恶心想吐    1  \n",
       "1  首映礼看的。太恐怖了这个电影，不讲道理的，完全就是吴京在实现他这个小粉红的英雄梦。各种装备轮...    2  \n",
       "2  吴京的炒作水平不输冯小刚，但小刚至少不会用主旋律来炒作…吴京让人看了不舒服，为了主旋律而主旋...    2  \n",
       "3                      凭良心说，好看到不像《战狼1》的续集，完虐《湄公河行动》。    4  \n",
       "4                                               中二得很    1  "
      ]
     },
     "execution_count": 53,
     "metadata": {},
     "output_type": "execute_result"
    }
   ],
   "source": [
    "content.head()"
   ]
  },
  {
   "cell_type": "code",
   "execution_count": 54,
   "metadata": {
    "collapsed": true
   },
   "outputs": [],
   "source": [
    "articles = content['comment'].tolist()"
   ]
  },
  {
   "cell_type": "code",
   "execution_count": 55,
   "metadata": {},
   "outputs": [
    {
     "data": {
      "text/plain": [
       "261497"
      ]
     },
     "execution_count": 55,
     "metadata": {},
     "output_type": "execute_result"
    }
   ],
   "source": [
    "len(articles)"
   ]
  },
  {
   "cell_type": "code",
   "execution_count": 58,
   "metadata": {
    "collapsed": true
   },
   "outputs": [],
   "source": [
    "import re\n",
    "def token(string):\n",
    "    return re.findall('\\w+',string)"
   ]
  },
  {
   "cell_type": "code",
   "execution_count": 64,
   "metadata": {
    "collapsed": true
   },
   "outputs": [],
   "source": [
    "import jieba\n",
    "from collections import Counter"
   ]
  },
  {
   "cell_type": "code",
   "execution_count": 65,
   "metadata": {},
   "outputs": [
    {
     "name": "stderr",
     "output_type": "stream",
     "text": [
      "Building prefix dict from the default dictionary ...\n",
      "Loading model from cache C:\\Users\\ADMINI~1\\AppData\\Local\\Temp\\jieba.cache\n",
      "Loading model cost 0.612 seconds.\n",
      "Prefix dict has been built succesfully.\n"
     ]
    }
   ],
   "source": [
    "with_jieba_cut = Counter(jieba.cut(articles[1000]))"
   ]
  },
  {
   "cell_type": "code",
   "execution_count": 120,
   "metadata": {},
   "outputs": [
    {
     "data": {
      "text/plain": [
       "[('，', 7),\n",
       " ('的', 4),\n",
       " ('了', 3),\n",
       " ('屎', 3),\n",
       " ('。', 3),\n",
       " ('被', 2),\n",
       " ('是', 2),\n",
       " ('、', 2),\n",
       " ('隔壁', 1),\n",
       " ('郭', 1),\n",
       " ('抄抄', 1),\n",
       " ('黑出', 1),\n",
       " ('这部', 1),\n",
       " ('主旋律', 1),\n",
       " ('赞', 1),\n",
       " ('开了花', 1),\n",
       " ('一毁', 1),\n",
       " ('一誉间', 1),\n",
       " ('冰火', 1),\n",
       " ('两重天', 1)]"
      ]
     },
     "execution_count": 120,
     "metadata": {},
     "output_type": "execute_result"
    }
   ],
   "source": [
    "with_jieba_cut.most_common()[:20]"
   ]
  },
  {
   "cell_type": "code",
   "execution_count": 67,
   "metadata": {},
   "outputs": [
    {
     "data": {
      "text/plain": [
       "'隔壁郭抄抄被黑出了屎这部主旋律被赞开了花一毁一誉间冰火两重天其实屎是撒了金粉喷了香水的屎花是只可远观不可细赏的塑料花都是假风景实则真平庸而最可玩味的还是这一众带情绪不带脑子的看客及其言行'"
      ]
     },
     "execution_count": 67,
     "metadata": {},
     "output_type": "execute_result"
    }
   ],
   "source": [
    "''.join(token(articles[1000]))"
   ]
  },
  {
   "cell_type": "code",
   "execution_count": 68,
   "metadata": {},
   "outputs": [
    {
     "name": "stdout",
     "output_type": "stream",
     "text": [
      "隔壁郭抄抄被黑出了屎，这部主旋律被赞开了花，一毁一誉间，冰火两重天。其实屎是撒了金粉、喷了香水的屎，花是只可远观、不可细赏的塑料花，都是假风景，实则真平庸。而最可玩味的还是这一众带情绪不带脑子的看客，及其言行。\n"
     ]
    }
   ],
   "source": [
    "print(articles[1000])"
   ]
  },
  {
   "cell_type": "code",
   "execution_count": 70,
   "metadata": {},
   "outputs": [
    {
     "data": {
      "text/plain": [
       "261497"
      ]
     },
     "execution_count": 70,
     "metadata": {},
     "output_type": "execute_result"
    }
   ],
   "source": [
    "articles_clean = [''.join(token(str(s)))for s in articles]\n",
    "len(articles_clean)"
   ]
  },
  {
   "cell_type": "code",
   "execution_count": 73,
   "metadata": {},
   "outputs": [
    {
     "name": "stdout",
     "output_type": "stream",
     "text": [
      "太基情了我不要还我明日香真希波玛丽凌波丽三女神音乐依旧好好听櫻流し宇多田ヒカル\n"
     ]
    }
   ],
   "source": [
    "print(articles_clean[600])"
   ]
  },
  {
   "cell_type": "code",
   "execution_count": 75,
   "metadata": {
    "collapsed": true
   },
   "outputs": [],
   "source": [
    "with open(r'D:\\Anlp_subject_data\\movie_comments.txt','w',encoding = 'utf-8') as f:\n",
    "    for line in articles_clean:\n",
    "        f.write(line + '\\n')"
   ]
  },
  {
   "cell_type": "code",
   "execution_count": 76,
   "metadata": {
    "collapsed": true
   },
   "outputs": [],
   "source": [
    "def cut_word(string):\n",
    "    return list(jieba.cut(string))"
   ]
  },
  {
   "cell_type": "code",
   "execution_count": 130,
   "metadata": {},
   "outputs": [
    {
     "name": "stdout",
     "output_type": "stream",
     "text": [
      "0\n",
      "5000\n",
      "10000\n",
      "15000\n",
      "20000\n",
      "25000\n",
      "30000\n",
      "35000\n",
      "40000\n",
      "45000\n",
      "50000\n",
      "55000\n",
      "60000\n",
      "65000\n",
      "70000\n",
      "75000\n",
      "80000\n",
      "85000\n",
      "90000\n",
      "95000\n",
      "100000\n",
      "105000\n",
      "110000\n",
      "115000\n",
      "120000\n",
      "125000\n",
      "130000\n",
      "135000\n",
      "140000\n",
      "145000\n",
      "150000\n",
      "155000\n",
      "160000\n",
      "165000\n",
      "170000\n",
      "175000\n",
      "180000\n",
      "185000\n",
      "190000\n",
      "195000\n",
      "200000\n",
      "205000\n",
      "210000\n",
      "215000\n",
      "220000\n",
      "225000\n",
      "230000\n",
      "235000\n",
      "240000\n",
      "245000\n",
      "250000\n",
      "255000\n",
      "260000\n"
     ]
    }
   ],
   "source": [
    "Token = []\n",
    "for i,lines in enumerate((open(r'D:\\Anlp_subject_data\\movie_comments.txt',encoding = 'utf-8'))):\n",
    "    if i%5000 == 0:\n",
    "        print(i)\n",
    "    Token += jieba.cut(lines)"
   ]
  },
  {
   "cell_type": "code",
   "execution_count": 131,
   "metadata": {
    "collapsed": true
   },
   "outputs": [],
   "source": [
    "from functools import reduce\n",
    "from operator import add, mul"
   ]
  },
  {
   "cell_type": "code",
   "execution_count": 132,
   "metadata": {
    "collapsed": true
   },
   "outputs": [],
   "source": [
    "words_count = Counter(Token)"
   ]
  },
  {
   "cell_type": "code",
   "execution_count": 133,
   "metadata": {},
   "outputs": [
    {
     "data": {
      "text/plain": [
       "[('的', 328262),\n",
       " ('\\n', 261497),\n",
       " ('了', 102420),\n",
       " ('是', 73106),\n",
       " ('我', 50338),\n",
       " ('都', 36255),\n",
       " ('很', 34712),\n",
       " ('看', 34022),\n",
       " ('电影', 33675),\n",
       " ('也', 32065),\n",
       " ('和', 31290),\n",
       " ('在', 31245),\n",
       " ('不', 28435),\n",
       " ('有', 27939),\n",
       " ('就', 25685),\n",
       " ('人', 23909),\n",
       " ('好', 22858),\n",
       " ('啊', 20803),\n",
       " ('这', 17484),\n",
       " ('还', 17449),\n",
       " ('一个', 17343),\n",
       " ('你', 17282),\n",
       " ('还是', 16425),\n",
       " ('但', 15578),\n",
       " ('故事', 15010),\n",
       " ('没有', 14343),\n",
       " ('就是', 14007),\n",
       " ('喜欢', 13566),\n",
       " ('让', 13304),\n",
       " ('太', 12676),\n",
       " ('又', 11566),\n",
       " ('剧情', 11359),\n",
       " ('没', 10858),\n",
       " ('说', 10764),\n",
       " ('吧', 10747),\n",
       " ('他', 10675),\n",
       " ('不错', 10416),\n",
       " ('得', 10349),\n",
       " ('到', 10341),\n",
       " ('给', 10300),\n",
       " ('这个', 10058),\n",
       " ('上', 10054),\n",
       " ('被', 9939),\n",
       " ('对', 9824),\n",
       " ('最后', 9694),\n",
       " ('一部', 9693),\n",
       " ('片子', 9590),\n",
       " ('什么', 9571),\n",
       " ('能', 9532),\n",
       " ('与', 9168)]"
      ]
     },
     "execution_count": 133,
     "metadata": {},
     "output_type": "execute_result"
    }
   ],
   "source": [
    "words_count.most_common()[:50]"
   ]
  },
  {
   "cell_type": "code",
   "execution_count": 141,
   "metadata": {
    "collapsed": true
   },
   "outputs": [],
   "source": [
    "frequiences = [f for w,f in words_count.most_common(100)]\n",
    "x = [i for i in range(100)]"
   ]
  },
  {
   "cell_type": "code",
   "execution_count": 142,
   "metadata": {
    "collapsed": true
   },
   "outputs": [],
   "source": [
    "%matplotlib inline"
   ]
  },
  {
   "cell_type": "code",
   "execution_count": 143,
   "metadata": {},
   "outputs": [
    {
     "data": {
      "text/plain": [
       "[<matplotlib.lines.Line2D at 0x27a8b128>]"
      ]
     },
     "execution_count": 143,
     "metadata": {},
     "output_type": "execute_result"
    },
    {
     "data": {
      "image/png": "[encoded data removed]",
      "text/plain": [
       "<matplotlib.figure.Figure at 0x2c0a3128>"
      ]
     },
     "metadata": {},
     "output_type": "display_data"
    }
   ],
   "source": [
    "import matplotlib.pyplot as plt\n",
    "plt.plot(x, frequiences)"
   ]
  },
  {
   "cell_type": "code",
   "execution_count": 144,
   "metadata": {},
   "outputs": [
    {
     "data": {
      "text/plain": [
       "[<matplotlib.lines.Line2D at 0x2c0ddc88>]"
      ]
     },
     "execution_count": 144,
     "metadata": {},
     "output_type": "execute_result"
    },
    {
     "data": {
      "image/png": "[encoded data removed]",
      "text/plain": [
       "<matplotlib.figure.Figure at 0x2c0b47f0>"
      ]
     },
     "metadata": {},
     "output_type": "display_data"
    }
   ],
   "source": [
    "import numpy as np\n",
    "plt.plot(x, np.log(frequiences))"
   ]
  },
  {
   "cell_type": "code",
   "execution_count": 146,
   "metadata": {
    "collapsed": true
   },
   "outputs": [],
   "source": [
    "def prob_1(word):\n",
    "    return words_count[word]/len(Token)"
   ]
  },
  {
   "cell_type": "code",
   "execution_count": 147,
   "metadata": {},
   "outputs": [
    {
     "data": {
      "text/plain": [
       "0.0012363709828465365"
      ]
     },
     "execution_count": 147,
     "metadata": {},
     "output_type": "execute_result"
    }
   ],
   "source": [
    "prob_1('我们')"
   ]
  },
  {
   "cell_type": "code",
   "execution_count": 149,
   "metadata": {},
   "outputs": [
    {
     "data": {
      "text/plain": [
       "['吴京', '意淫', '到', '了', '脑残', '的', '地步', '看', '了', '恶心']"
      ]
     },
     "execution_count": 149,
     "metadata": {},
     "output_type": "execute_result"
    }
   ],
   "source": [
    "Token[:10]"
   ]
  },
  {
   "cell_type": "code",
   "execution_count": 150,
   "metadata": {},
   "outputs": [
    {
     "data": {
      "text/plain": [
       "['吴京意淫', '意淫到', '到了', '了脑残', '脑残的', '的地步', '地步看', '看了', '了恶心', '恶心想']"
      ]
     },
     "execution_count": 150,
     "metadata": {},
     "output_type": "execute_result"
    }
   ],
   "source": [
    "Token = [str(t) for t in Token]\n",
    "Token_2_gram = [''.join(Token[i:i+2]) for i in range(len(Token[:-2]))]\n",
    "Token_2_gram[:10]"
   ]
  },
  {
   "cell_type": "code",
   "execution_count": 151,
   "metadata": {
    "collapsed": true
   },
   "outputs": [],
   "source": [
    "words_count_2 = Counter(Token_2_gram)"
   ]
  },
  {
   "cell_type": "code",
   "execution_count": 152,
   "metadata": {
    "collapsed": true
   },
   "outputs": [],
   "source": [
    "def prob_1(word):\n",
    "    return words_count[word]/len(Token)"
   ]
  },
  {
   "cell_type": "code",
   "execution_count": 153,
   "metadata": {
    "collapsed": true
   },
   "outputs": [],
   "source": [
    "def prob_2(word1, word2):\n",
    "    if word1 + word2 in words_count_2: \n",
    "        return words_count_2[word1+word2] / len(Token_2_gram)\n",
    "    else:\n",
    "        return 1 / len(Token_2_gram)"
   ]
  },
  {
   "cell_type": "code",
   "execution_count": 161,
   "metadata": {
    "scrolled": true
   },
   "outputs": [
    {
     "data": {
      "text/plain": [
       "1.0522310665750804e-06"
      ]
     },
     "execution_count": 161,
     "metadata": {},
     "output_type": "execute_result"
    }
   ],
   "source": [
    "prob_2('在','吃饭')"
   ]
  },
  {
   "cell_type": "code",
   "execution_count": 163,
   "metadata": {},
   "outputs": [
    {
     "data": {
      "text/plain": [
       "2.1886406184761675e-05"
      ]
     },
     "execution_count": 163,
     "metadata": {},
     "output_type": "execute_result"
    }
   ],
   "source": [
    "prob_2('脑残','粉')"
   ]
  },
  {
   "cell_type": "code",
   "execution_count": 207,
   "metadata": {
    "collapsed": true
   },
   "outputs": [],
   "source": [
    "def get_probablity(sentence):\n",
    "    words = jieba.lcut(sentence)\n",
    "    \n",
    "    sentence_pro = 1\n",
    "    \n",
    "    for i,word in enumerate(words[:-1]):\n",
    "        next_ = words[i+1]\n",
    "        \n",
    "        probability = prob_2(word, next_)\n",
    "        \n",
    "        sentence_pro *= probability\n",
    "    \n",
    "    return sentence_pro"
   ]
  },
  {
   "cell_type": "code",
   "execution_count": 179,
   "metadata": {},
   "outputs": [
    {
     "name": "stdout",
     "output_type": "stream",
     "text": [
      "['买', '彩票', '中', '了', '500', '万']\n"
     ]
    },
    {
     "data": {
      "text/plain": [
       "1.5602614487871078e-31"
      ]
     },
     "execution_count": 179,
     "metadata": {},
     "output_type": "execute_result"
    }
   ],
   "source": [
    "get_probablity('买彩票中了500万')"
   ]
  },
  {
   "cell_type": "code",
   "execution_count": 180,
   "metadata": {},
   "outputs": [
    {
     "name": "stdout",
     "output_type": "stream",
     "text": [
      "['捡', '垃圾', '捡', '了', '500', '万']\n"
     ]
    },
    {
     "data": {
      "text/plain": [
       "1.6510703161768333e-33"
      ]
     },
     "execution_count": 180,
     "metadata": {},
     "output_type": "execute_result"
    }
   ],
   "source": [
    "get_probablity('捡垃圾捡了500万')"
   ]
  },
  {
   "cell_type": "code",
   "execution_count": 181,
   "metadata": {},
   "outputs": [
    {
     "name": "stdout",
     "output_type": "stream",
     "text": [
      "['小朋友', ',', '您好', ',', '我', '是', '婚姻家庭', '纠纷', '机器人', ',', '我', '叫', '小艾', ',', '您', '需要', '询问', '什么', '吗', '？']\n"
     ]
    },
    {
     "data": {
      "text/plain": [
       "1.4434458937371327e-121"
      ]
     },
     "execution_count": 181,
     "metadata": {},
     "output_type": "execute_result"
    }
   ],
   "source": [
    "get_probablity('小朋友,您好,我是婚姻家庭纠纷机器人,我叫小艾,您需要询问什么吗？')"
   ]
  },
  {
   "cell_type": "code",
   "execution_count": 183,
   "metadata": {},
   "outputs": [
    {
     "name": "stdout",
     "output_type": "stream",
     "text": [
      "['电影', '看', '的', '真', '刺激']\n"
     ]
    },
    {
     "data": {
      "text/plain": [
       "2.260408656279399e-18"
      ]
     },
     "execution_count": 183,
     "metadata": {},
     "output_type": "execute_result"
    }
   ],
   "source": [
    "get_probablity('电影看的真刺激')"
   ]
  },
  {
   "cell_type": "markdown",
   "metadata": {},
   "source": [
    "# 3、获得最优质的语言"
   ]
  },
  {
   "cell_type": "code",
   "execution_count": 211,
   "metadata": {
    "collapsed": true
   },
   "outputs": [],
   "source": [
    "def generate_best(gen =generate_num1 ,model=get_probablity):\n",
    "    result = [(i,model(i) )for i in gen()]\n",
    "    result1 = sorted(result, key=lambda x: x[1],reverse = True)\n",
    "    return result1 ,'Best:',result1[0]"
   ]
  },
  {
   "cell_type": "code",
   "execution_count": 213,
   "metadata": {},
   "outputs": [
    {
     "data": {
      "text/plain": [
       "([('您好,我是医疗纠纷机器人,我叫小度,请问您要打听什么吗？', 3.9111054387051845e-107),\n",
       "  ('你好,我是房产纠纷机器人,我叫小智,请问您要打听什么吗？', 3.9111054387051845e-107),\n",
       "  ('你好,我是债权债务纠纷机器人,我叫小美,您需要询问什么吗？', 3.259254532254321e-108),\n",
       "  ('你好,我是交通事故纠纷机器人,我叫小度,您需要咨询什么吗？', 3.259254532254321e-108),\n",
       "  ('你好,我是金融纠纷机器人,我叫小智,请问您要咨询什么吗？', 8.23077329451271e-114),\n",
       "  ('您好,我是金融纠纷机器人,我叫小度,请问您要打听什么吗？', 8.23077329451271e-114),\n",
       "  ('您好,我是金融纠纷机器人,我叫小美,请问您要询问什么吗？', 8.23077329451271e-114),\n",
       "  ('您好,我是婚姻家庭纠纷机器人,我叫小度,请问您要询问什么吗？', 8.23077329451271e-114),\n",
       "  ('你好,我是刑事纠纷机器人,我叫小美,请问您要询问什么吗？', 8.23077329451271e-114),\n",
       "  ('同学,您好,我是医疗纠纷机器人,我叫小度,您需要询问什么吗？', 6.858977745427256e-115),\n",
       "  ('女士,您好,我是房产纠纷机器人,我叫小智,您需要打听什么吗？', 6.858977745427256e-115),\n",
       "  ('小朋友,您好,我是民事纠纷机器人,我叫Siri,您需要咨询什么吗？', 6.858977745427256e-115),\n",
       "  ('小朋友,您好,我是医疗纠纷机器人,我叫小艾,您需要打听什么吗？', 6.858977745427256e-115),\n",
       "  ('小朋友,您好,我是房产纠纷机器人,我叫小美,请问您要咨询什么吗？', 1.7321350724845594e-120),\n",
       "  ('小朋友,您好,我是金融纠纷机器人,我叫Siri,您需要咨询什么吗？', 1.4434458937371327e-121),\n",
       "  ('女士,你好,我是刑事纠纷机器人,我叫小美,您需要咨询什么吗？', 1.4434458937371327e-121),\n",
       "  ('女士,您好,我是婚姻家庭纠纷机器人,我叫小美,您需要打听什么吗？', 1.4434458937371327e-121),\n",
       "  ('先生,你好,我是债权债务纠纷机器人,我叫小智,您需要咨询什么吗？', 1.4434458937371327e-121),\n",
       "  ('同学,你好,我是金融纠纷机器人,我叫小美,您需要打听什么吗？', 1.4434458937371327e-121),\n",
       "  ('先生,你好,我是金融纠纷机器人,我叫小度,请问您要打听什么吗？', 3.6452126695450645e-127)],\n",
       " 'Best:',\n",
       " ('您好,我是医疗纠纷机器人,我叫小度,请问您要打听什么吗？', 3.9111054387051845e-107))"
      ]
     },
     "execution_count": 213,
     "metadata": {},
     "output_type": "execute_result"
    }
   ],
   "source": [
    "generate_best(generate_num1,get_probablity)"
   ]
  },
  {
   "cell_type": "code",
   "execution_count": null,
   "metadata": {
    "collapsed": true
   },
   "outputs": [],
   "source": []
  },
  {
   "cell_type": "code",
   "execution_count": null,
   "metadata": {
    "collapsed": true
   },
   "outputs": [],
   "source": [
    "Q: 这个模型有什么问题？ 你准备如何提升？\n",
    "答：输入句子的检测概率还是偏低。一是可能分词的时候没有去处停用词，可添加停用词典；\n",
    "二是可能训练语料的关系，训练语料没有相关的句子，可增加训练语料，垂直领域语料。"
   ]
  },
  {
   "cell_type": "code",
   "execution_count": null,
   "metadata": {
    "collapsed": true
   },
   "outputs": [],
   "source": []
  }
 ],
 "metadata": {
  "kernelspec": {
   "display_name": "Python 3",
   "language": "python",
   "name": "python3"
  },
  "language_info": {
   "codemirror_mode": {
    "name": "ipython",
    "version": 3
   },
   "file_extension": ".py",
   "mimetype": "text/x-python",
   "name": "python",
   "nbconvert_exporter": "python",
   "pygments_lexer": "ipython3",
   "version": "3.6.3"
  }
 },
 "nbformat": 4,
 "nbformat_minor": 2
}
