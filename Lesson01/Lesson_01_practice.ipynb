{
 "cells": [
  {
   "cell_type": "markdown",
   "metadata": {},
   "source": [
    "# readme:\n",
    "通过马尔科夫链训练心灵鸡汤语料，随机生成10句鸡汤句子，并通过语言模型判断10句话中哪句生成概率最高、最合理\n",
    "参考链接：https://zhuanlan.zhihu.com/p/32616335\n"
   ]
  },
  {
   "cell_type": "markdown",
   "metadata": {},
   "source": [
    "# 通过马尔科夫链训练心灵鸡汤语料"
   ]
  },
  {
   "cell_type": "code",
   "execution_count": 13,
   "metadata": {
    "collapsed": true
   },
   "outputs": [],
   "source": [
    "import random\n",
    "import jieba\n",
    "import re\n",
    "import pandas as pd\n",
    "from collections import Counter"
   ]
  },
  {
   "cell_type": "code",
   "execution_count": 3,
   "metadata": {},
   "outputs": [
    {
     "name": "stderr",
     "output_type": "stream",
     "text": [
      "Building prefix dict from the default dictionary ...\n",
      "Dumping model to file cache C:\\Users\\ADMINI~1\\AppData\\Local\\Temp\\jieba.cache\n",
      "Loading model cost 0.778 seconds.\n",
      "Prefix dict has been built succesfully.\n"
     ]
    }
   ],
   "source": [
    "content = []\n",
    "dataset_file = [line.rstrip() for line in open(r\"C:\\Users\\Administrator\\Desktop\\nlp_assignment\\Lesson01\\userdic.txt\", 'r', encoding='utf-8-sig')]\n",
    "for words in dataset_file:\n",
    "    content.append(words)\n",
    "data_string = '\\n'.join(content)\n",
    "cut_word = jieba.lcut(data_string)\n",
    "cut_word_result = ' '.join(cut_word)"
   ]
  },
  {
   "cell_type": "code",
   "execution_count": 4,
   "metadata": {},
   "outputs": [
    {
     "name": "stdout",
     "output_type": "stream",
     "text": [
      "{'START': ['人生', '人生', '其实', '想要', '从', '人生', '我们', '人生', '一个', '生活', '总有', '照顾', '昨天', '人生', '与其', '当', '生活', '有', '人', '感悟'], '人生': ['总是', '，', '很多', '看淡', '的', '最', '是', '就', '。', '不能', '的', '最大', '话'], '总是': ['有取', '有', '拘泥'], '有取': ['有'], '有': ['舍', '资格', '意义', '一个', '自己', '成长', '自己', '坚定', '目标', '那么', '，'], '舍': ['的'], '的': ['，', '生活', '人', '人', '人生', '美丽', '时候', '放弃', '事物', '美好', '，', '生活', '富足', '自由', '满足', '愉悦', '放松', '窗', '生活', '绿色植物', '境界', '，', '事情', '东西', '快乐', '口袋', '位置', '东西', '善意', '能力', '奔跑', '坚持', '努力', '坚持', '磨砺', '翅膀', '岁月', '故事', '房间', '人', '人', '路长', '人', '风景', '淡定', '睿智', '过程', '两个', '因', '纠结', '心疼', '价值', '贵人', '改变', '过程', '，', '蜕变', '惊喜', '，', '路', '思考', '意志', '信念', '追求', '要求', '人生', '人', '人', '!', '借口', '谦词', '表现', '态度', '一生', '不如意', '埋怨', '错误', '财富', '财富', '人', '人', '，', '，', '，', '，'], '，': ['为了', '勇敢', '善待', '沉稳', '处事', '安详', '历尽沧桑', '却', '因为', '对', '一直', '为了', '其实', '往往', '而是', '精神', '情绪', '心灵', '打开', '关上', '品茶', '喜欢', '每天', '我们', '但是', '每个', '因为', '人', '不过', '就', '在', '把', '让', '相信', '相信', '相信', '相信', '相信', '相信', '你', '就', '不', '而', '中途', '你', '只有', '才能', '有', '人', '每个', '在', '不妨', '在', '每个', '看淡', '看', '随', '烦时静', '与', '急时', '和', '你', '但是', '走', '你', '也', '只是', '他', '你', '爱', '痛苦', '忧伤', '不', '又', '让', '住', '明天', '遇见', '不经意', '人生', '头脑', '有些', '有些', '就', '坚持', '不如', '多少', '今日', '今日', '一切都是', '多少', '多少', '都', '你', '请', '因为', '但', '人生', '走', '有', '坚持', '坚持', '不能', '更', '自己', '没', '因为', '你', '那请', '是', '是', '但', '只是', '才', '谁', '开心', '烦恼', '谁', '如果', '徘徊不前', '失落', '无', '却是', '应', '因为', '生命', '心', '心地', '背后', '才', '实在', '才', '不知不觉'], '为了': ['自己', '获得'], '自己': ['想过', '真正', '的', '要', '有', '。', '的', '活得', '的', '想要', '的', '的', '微笑', '，', '才能', '。', '，', '逼迫', '，', '想', '的', '的', '的', '的', '的', '的', '要', '。'], '想过': ['的'], '生活': ['，', '不', '。', '很', '太', '绝对'], '勇敢': ['放弃'], '放弃': ['一些', '，', '了'], '一些': ['东西'], '东西': ['。', '愈少', '—'], '。': ['淡定', '淡定', '看书', '所以', '生命', '生命', '眼泪', '在', '累时', '大概', '如果', '如果', '走过', '命运', '生命', '他', '当', '蜕变', '人生', '命', '嘴上', '人前', '人前', '当面', '背后', '眼前'], '淡定': ['的', '的', '的', '与'], '人': ['，', '，', '和', '圆满', '把', '都', '只有', '至少', '总要', '都', '都', '，', '住', '就', '多', '却', '逼迫', '在', '在', '的', '，', '，'], '善待': ['生命'], '生命': ['，', '里', '中', '本是', '的', '中', '，', '就是'], '沉稳': ['而'], '而': ['不', '不', '忙忙碌碌', '取决于', '改变'], '不': ['缺少', '缺乏', '只是', '一样', '一样', '在于', '知道', '自由', '眷顾', '开心', '可怕'], '缺少': ['热情'], '热情': [';'], ';': ['淡定', '运', '努力'], '处事': ['不惊'], '不惊': ['，'], '安详': ['而'], '缺乏': ['快意'], '快意': ['。'], '历尽沧桑': ['，'], '却': ['依然', '赢', '很'], '依然': ['呈现'], '呈现': ['随遇而安'], '随遇而安': ['的'], '美丽': ['淡然'], '淡然': ['。'], 'END': ['。', '!', '。', '。', '。', '。', '。', '!', '。', '。', '。', '。', '。', '。', '。', '。', '。', '!', '。', '。'], '很多': ['的', '美好'], '时候': ['需要'], '需要': ['自觉', '的'], '自觉': ['的'], '因为': ['世间', '每个', '真正', '觉得', '你'], '世间': ['还有'], '还有': ['很多'], '美好': ['的', '，', '的', '，'], '事物': ['，'], '对': ['没有', '自己'], '没有': ['拥有', '人'], '拥有': ['的', '一个', '一对', '最大'], '一直': ['苦苦'], '苦苦': ['向往'], '向往': ['与'], '与': ['追求', '花草', '从容', '清醒', '烦心'], '追求': ['，', '，'], '获得': ['而'], '忙忙碌碌': ['，'], '其实': ['自己', '优质'], '真正': ['所', '的'], '所': ['需要'], '往往': ['要', '冰凉'], '要': ['经过', '修得', '做', '清理', '尽量', '感恩', '对得起'], '经过': ['很多年', '岁月'], '很多年': ['后'], '后': ['才'], '才': ['会', '会', '会', '是', '是', '是'], '会': ['明白', '来', '秀丽', '明媚', '被', '因此', '有', '有'], '明白': ['!'], '优质': ['的'], '只是': ['经济', '不会', '一种'], '经济': ['上'], '上': ['的', '的', '的', '的', '的'], '富足': ['，'], '而是': ['行为'], '行为': ['上'], '自由': ['，', '，'], '精神': ['上'], '满足': ['，'], '情绪': ['上'], '愉悦': ['，', '。'], '心灵': ['上'], '放松': ['。', '对'], '想要': ['一扇', '了'], '一扇': ['明亮'], '明亮': ['的'], '窗': ['，'], '打开': ['能'], '能': ['看到', '徜徉', '体验'], '看到': ['世界'], '世界': ['，'], '关上': ['能'], '徜徉': ['自己'], '看书': ['，'], '品茶': ['，'], '喜欢': ['的'], '绿色植物': ['都'], '都': ['在', '是', '是', '做好', '不', '要', '是', '可能', '有', '是', '会', '欠', '会', '是'], '在': ['窗外', '每', '。', '经过', '自己', '岁月', '心里', '里面', '里面', '开始', '最终', '飘渺', '感恩', '报怨'], '窗外': ['，'], '每天': ['都'], '是': ['新鲜', '要', '不', '无常', '白费', '内心', '一场', '命运', '你', '自己', '很', '一帆风顺', '失败者', '成功者', '人生', '正直', '朋友', '刀刀见血', '最'], '新鲜': ['和'], '和': ['愉悦', '人', '自己', '他', '蜕变'], '从': ['生来'], '生来': ['开始'], '开始': ['，', '，'], '我们': ['最后', '要'], '最后': ['都'], '修得': ['圆满'], '圆满': ['，', '的', '了'], '但是': ['人', '，'], '境界': ['是'], '一样': ['的', '，'], '每个': ['人', '人', '人', '人'], '把': ['自己', '更'], '做': ['的'], '事情': ['都', '会变'], '做好': ['就', '自己'], '就': ['圆满', '越', '越', '各奔东西', '会', '看', '那么'], '了': ['。', '，', '，', '结果', '，', '，', '一句', '，', '，'], '所以': ['不要'], '不要': ['评价'], '评价': ['他人', '自己'], '他人': ['，', '的'], '只有': ['自己', '努力'], '资格': ['评价'], '看淡': ['了', '心境'], '不过': ['是'], '无常': ['。'], '里': ['填塞', '，'], '填塞': ['的'], '愈少': ['，'], '越': ['能', '相信', '接近'], '体验': ['到'], '到': ['生命'], '中': ['的', '跋涉', '最', '的', '得罪'], '快乐': ['。'], '本是': ['一次'], '一次': ['旅行', '停泊', '的'], '旅行': ['，', '，'], '每': ['一次', '一次'], '停泊': ['时'], '时': ['都'], '清理': ['自己'], '口袋': ['，'], '更': ['多', '轻松', '自', '不能'], '多': ['的', '，', '了', '的'], '位置': ['空'], '空': ['出来'], '出来': ['，'], '让': ['自己', '重要'], '活得': ['更'], '轻松': ['、'], '、': ['更'], '自': ['在'], '尽量': ['去'], '去': ['相信', '坚强', '突破'], '相信': ['美好', '真', '生活', '他人', '自己', '努力', '事情', '幸福', '，'], '—': ['—', '相信'], '真': ['爱'], '爱': ['存在', '自己'], '存在': ['，'], '很': ['精彩', '痛苦', '善良', '会做人'], '精彩': ['，'], '善意': ['，'], '能力': ['，'], '努力': ['有', '都', '的', '，'], '意义': ['，', '的'], '会变': ['好'], '好': ['，', '自己', '自己'], '幸福': ['会'], '来': ['敲门'], '敲门': ['…'], '…': ['这些'], '这些': ['美好'], '你': ['越', '前面', '从没', '不', '一句', '忍', '压抑', '能够', '去', '要', '生命', '会', '，', '正在', '任', '不好', '坏话'], '接近': ['。'], '奔跑': ['，'], '在于': ['谁'], '谁': ['先', '，', '也', '都'], '先': ['起跑'], '起跑': ['，'], '取决于': ['途中'], '途中': ['的'], '坚持': ['，', '，', '多久', '自己', '自己'], '中途': ['放弃'], '前面': ['所有'], '所有': ['的'], '白费': ['，'], '才能': ['得到', '爱好'], '得到': ['自己'], '结果': ['!'], '一个': ['人', '梦想', '理由', '人'], '至少': ['拥有'], '梦想': ['，'], '理由': ['去'], '坚强': ['。'], '眼泪': ['终究'], '终究': ['流'], '流': ['不成'], '不成': ['海洋'], '海洋': ['，'], '总要': ['不断'], '不断': ['成长'], '成长': ['。', '的'], '岁月': ['的', '里化', '中'], '磨砺': ['之后'], '之后': ['，'], '可能': ['拥有', '在'], '一对': ['闪闪发光'], '闪闪发光': ['的'], '翅膀': ['，'], '里化': ['茧'], '茧': ['成蝶'], '成蝶': ['。'], '太': ['匆忙'], '匆忙': ['，'], '不妨': ['慢下来'], '慢下来': ['，'], '跋涉': ['，'], '故事': ['，', '，'], '心境': ['才'], '秀丽': ['，'], '看': ['开', '你'], '开': ['心情'], '心情': ['才'], '明媚': ['。'], '累时': ['歇'], '歇': ['一歇'], '一歇': ['，'], '随': ['清风'], '清风': ['漫舞'], '漫舞': ['，'], '烦时静': ['一静'], '一静': ['，'], '花草': ['凝眸'], '凝眸': ['，'], '急时': ['缓一缓'], '缓一缓': ['，'], '微笑': ['。'], '总有': ['那么', '算计'], '那么': ['一个', '几十年', '多'], '从没': ['想'], '想': ['过会', '改变'], '过会': ['和'], '他': ['变得', '欠', '。', '是', '的'], '变得': ['如此'], '如此': ['陌生'], '陌生': ['，'], '走': ['着', '着', '好'], '着': ['走', '就'], '各奔东西': ['了'], '知道': ['为什么'], '为什么': ['，'], '也': ['说不上', '避免'], '说不上': ['到底'], '到底': ['哪里'], '哪里': ['错'], '错': ['了'], '不会': ['再有', '偏爱', '是', '做人'], '再有': ['任何'], '任何': ['期待'], '期待': ['。'], '大概': ['就是'], '就是': ['，', '\"', '人生'], '欠': ['你', '他'], '一句': ['对不起', '没关系', '好话'], '对不起': ['，'], '忍': ['了'], '没关系': ['。'], '照顾': ['好'], '爱好': ['别人'], '别人': ['。', '，'], '如果': ['你', '一颗', '，', '总是'], '压抑': ['，'], '痛苦': ['，', '的'], '忧伤': ['，'], '又': ['怎么'], '怎么': ['可能'], '心里': ['腾出'], '腾出': ['温暖'], '温暖': ['的'], '房间': ['，'], '重要': ['的', '的'], '住': ['在', '在'], '里面': ['。', '的'], '一颗': ['心'], '心': ['千疮百孔', '往往'], '千疮百孔': ['，'], '被': ['雨水'], '雨水': ['打湿'], '打湿': ['。'], '昨天': ['越来越'], '越来越': ['多'], '明天': ['越来越少'], '越来越少': ['。'], '走过': ['的'], '路长': ['了'], '遇见': ['的'], '不经意': ['间'], '间': ['发现'], '发现': ['，'], '最': ['曼妙', '重要', '要命'], '曼妙': ['的'], '风景': ['是'], '内心': ['的'], '从容': ['，'], '头脑': ['的'], '睿智': ['与'], '清醒': ['。'], '一场': ['漫长'], '漫长': ['对抗'], '对抗': ['，'], '有些': ['人笑', '人'], '人笑': ['在'], '赢': ['在'], '最终': ['。'], '命运': ['不会', '的', '不'], '偏爱': ['谁'], '能够': ['追逐'], '追逐': ['多久'], '多久': ['，', '。'], '与其': ['羡慕'], '羡慕': ['别人'], '不如': ['做好'], '过程': ['中', '是'], '两个': ['字'], '字': ['就是'], '\"': ['现在', '，'], '现在': ['\"'], '多少': ['期望', '的', '的'], '期望': ['还'], '还': ['在'], '飘渺': ['里'], '今日': ['故事', '旅行'], '一切都是': ['未来'], '未来': ['的'], '因': ['，'], '纠结': ['，'], '心疼': ['，'], '价值': ['。'], '当': ['有人', '没有'], '有人': ['逼迫'], '逼迫': ['你', '你', '自己'], '突破': ['自己'], '感恩': ['他', '，'], '贵人': [','], ',': ['也许'], '也许': ['你'], '因此': ['而'], '改变': ['和', '是', '。'], '蜕变': ['。', '的', '都'], '请': ['自己'], '但': ['每', '埋怨'], '惊喜': ['。'], '绝对': ['不会'], '一帆风顺': ['的'], '几十年': ['，'], '路': ['就要'], '就要': ['有'], '思考': ['，'], '坚定': ['的'], '意志': ['，'], '信念': ['，'], '不能': ['放松', '糊里糊涂', '虚度'], '要求': ['，'], '糊里糊涂': ['地'], '地': ['度过'], '度过': ['自己'], '虚度': ['，'], '对得起': ['自己'], '目标': ['的', '的'], '没': ['目标', '一句'], '报怨': ['，'], '觉得': ['全世界'], '全世界': ['都'], '!': ['如果'], '正在': ['埋怨'], '埋怨': ['命运', '，', '懊悔'], '眷顾': ['，'], '那请': ['记住'], '记住': ['：'], '：': ['命'], '命': ['，', '虽'], '失败者': ['的'], '借口': [';'], '运': ['，'], '成功者': ['的'], '谦词': ['。'], '虽': ['由'], '由': ['天定'], '天定': ['，'], '一种': ['懦弱'], '懦弱': ['的'], '表现': [';'], '态度': ['!'], '一生': ['总是'], '不如意': ['，'], '避免': ['不了'], '不了': ['，'], '开心': ['不', '，'], '烦恼': ['，', '，'], '拘泥': ['与'], '烦心': ['处'], '处': ['，'], '徘徊不前': ['，'], '失落': ['烦恼'], '无': ['意义'], '懊悔': ['，'], '却是': ['最大'], '最大': ['的', '的', '的'], '错误': ['，'], '应': ['及时'], '及时': ['调整'], '调整': ['心态'], '心态': ['面对'], '面对': ['，'], '任': ['拥有'], '财富': ['生命', '。'], '感悟': ['人生'], '话': ['说好听'], '说好听': ['的'], '冰凉': ['。'], '嘴上': ['没'], '好话': ['的'], '心地': ['却'], '善良': ['。'], '人前': ['很', '不会'], '会做人': ['的'], '背后': ['总有', '说'], '算计': ['。'], '做人': ['的'], '正直': ['。'], '当面': ['说'], '说': ['你', '你'], '不好': ['的'], '实在': ['都'], '朋友': ['。'], '坏话': ['的'], '刀刀见血': ['。'], '眼前': ['得罪人'], '得罪人': ['不'], '可怕': ['，'], '不知不觉': ['中'], '得罪': ['人才'], '人才': ['是'], '要命': ['。']}\n"
     ]
    }
   ],
   "source": [
    "model = {}\n",
    "for line in cut_word_result.split(\"\\n\"):\n",
    "    line = line.lower().split()\n",
    "    for i, word in enumerate(line):\n",
    "        if i == len(line)-1:\n",
    "            model['END'] = model.get('END', []) + [word]\n",
    "        else:\n",
    "            if i == 0:\n",
    "                model['START'] = model.get('START', []) + [word]\n",
    "            model[word] = model.get(word, []) + [line[i+1]]\n",
    "print(model)"
   ]
  },
  {
   "cell_type": "code",
   "execution_count": 5,
   "metadata": {
    "collapsed": true
   },
   "outputs": [],
   "source": [
    "def generate_gram():\n",
    "    generated = []\n",
    "    while True:\n",
    "        if not generated:\n",
    "            words = model['START']\n",
    "        elif generated[-1] in model['END']:\n",
    "            break\n",
    "        else:\n",
    "            words = model[generated[-1]]\n",
    "        generated.append(random.choice(words))\n",
    "    return ''.join(generated)\n"
   ]
  },
  {
   "cell_type": "code",
   "execution_count": 6,
   "metadata": {
    "collapsed": true
   },
   "outputs": [],
   "source": [
    "def generate_num():\n",
    "    for i in range(10):\n",
    "        print(generate_gram())"
   ]
  },
  {
   "cell_type": "code",
   "execution_count": 9,
   "metadata": {
    "scrolled": true
   },
   "outputs": [
    {
     "name": "stdout",
     "output_type": "stream",
     "text": [
      "昨天越来越多的过程是失败者的态度!\n",
      "当没有人的快乐。\n",
      "人和人和愉悦。\n",
      "想要一扇明亮的信念，忧伤，相信，精神上的人在里面。\n",
      "人的过程是命运不会是不可怕，应及时调整心态面对，让重要的人和愉悦，有一个人，为了自己，背后总有那么几十年，忧伤，又怎么可能拥有的能力，应及时调整心态面对，喜欢的风景是不缺乏快意。\n",
      "人把自己才能得到自己要做的绿色植物都是一场漫长对抗，不过是白费，住在岁月的谦词。\n",
      "人生，中途放弃一些东西—————相信，因为觉得全世界都在每一次旅行，心地却赢在自己。\n",
      "人生。\n",
      "人生的人至少拥有的位置空出来，你去坚强。\n",
      "人生看淡了，处事不惊，是命运的生活，才会明媚。\n"
     ]
    }
   ],
   "source": [
    "generate_num()"
   ]
  },
  {
   "cell_type": "code",
   "execution_count": 57,
   "metadata": {
    "collapsed": true
   },
   "outputs": [],
   "source": [
    "def generate_num1(): \n",
    "    return[generate_gram() for i in range(20)]"
   ]
  },
  {
   "cell_type": "code",
   "execution_count": 58,
   "metadata": {},
   "outputs": [
    {
     "data": {
      "text/plain": [
       "['人生很多的惊喜。',\n",
       " '想要了，多少的态度!',\n",
       " '人生最大的意志，你任拥有一个梦想，关上能看到世界，烦恼，因为你忍了，都不缺少热情;努力，没一句对不起，为了获得而取决于途中的追求，谁都欠你从没想过会和蜕变。',\n",
       " '一个人至少拥有最大的，坚持自己的两个字就是\"，遇见的，头脑的岁月的生活不开心，但埋怨，相信生活绝对不会再有任何期待。',\n",
       " '其实优质的放松对没有人在岁月中最要命。',\n",
       " '人生最曼妙的思考，才是失败者的埋怨命运不会是新鲜和他。',\n",
       " '照顾好自己，对自己微笑。',\n",
       " '照顾好，也说不上到底哪里错了。',\n",
       " '总有算计。',\n",
       " '人生最重要的埋怨命运不在于谁都可能拥有最大的快乐。',\n",
       " '照顾好自己要经过很多年后才是内心的人的人就那么一个梦想，其实优质的过程是人生看淡了一句好话的睿智与追求，请自己。',\n",
       " '昨天越来越多了，走着就会因此而忙忙碌碌，住在开始，都不可怕，是内心的追求，你越相信生活不一样的人总要不断成长。',\n",
       " '有坚定的能力，不如做好就越接近。',\n",
       " '人生是最重要的错误，才是正直。',\n",
       " '当没有拥有一对闪闪发光的房间，没一句好话的风景是刀刀见血。',\n",
       " '人生的翅膀，实在都在。',\n",
       " '我们最后都有坚定的惊喜。',\n",
       " '从生来开始，一直苦苦向往与追求，但是人，因为你，你一句对不起，坚持多久。',\n",
       " '总有算计。',\n",
       " '照顾好自己想过会和人和愉悦。']"
      ]
     },
     "execution_count": 58,
     "metadata": {},
     "output_type": "execute_result"
    }
   ],
   "source": [
    "generate_num1()"
   ]
  },
  {
   "cell_type": "markdown",
   "metadata": {},
   "source": [
    "# 2.使用新数据源完成语言模型训练"
   ]
  },
  {
   "cell_type": "code",
   "execution_count": 11,
   "metadata": {},
   "outputs": [
    {
     "name": "stdout",
     "output_type": "stream",
     "text": [
      "261497\n"
     ]
    },
    {
     "name": "stderr",
     "output_type": "stream",
     "text": [
      "E:\\Anaconda\\lib\\site-packages\\IPython\\core\\interactiveshell.py:2698: DtypeWarning: Columns (0,4) have mixed types. Specify dtype option on import or set low_memory=False.\n",
      "  interactivity=interactivity, compiler=compiler, result=result)\n"
     ]
    }
   ],
   "source": [
    "content = pd.read_csv(r\"C:\\Users\\Administrator\\Desktop\\nlp_assignment\\Lesson01\\movie_comments.csv\")\n",
    "# print(content.head())\n",
    "articles = content['comment'].tolist()\n",
    "print(len(articles))"
   ]
  },
  {
   "cell_type": "code",
   "execution_count": 16,
   "metadata": {},
   "outputs": [
    {
     "name": "stdout",
     "output_type": "stream",
     "text": [
      "吴京这一次完全就是用超级英雄的标准来打造角色美式英雄主义与主旋律的违和是不可逆转的缺点各种笑料也一定程度地破坏了节奏感斥巨资炮制的大场面有所体验动作场面的流畅自然也比得上好莱坞水准但满到溢出却又影响了观感有着明显的优缺点但却会是受一般观众喜爱的院线电影两星半\n"
     ]
    }
   ],
   "source": [
    "def token(string):\n",
    "    return re.findall('\\w+',string)\n",
    "articles_clean = [''.join(token(str(s))) for  s in articles]\n",
    "print(articles_clean[66])"
   ]
  },
  {
   "cell_type": "code",
   "execution_count": 17,
   "metadata": {
    "collapsed": true
   },
   "outputs": [],
   "source": [
    "def cut_word(string):\n",
    "    return list(jieba.cut(string))"
   ]
  },
  {
   "cell_type": "code",
   "execution_count": 41,
   "metadata": {
    "collapsed": true
   },
   "outputs": [],
   "source": [
    "articles_words = [cut_word(string) for string in articles_clean]\n",
    "Token = []\n",
    "for i in articles_words:\n",
    "    Token.extend(i)"
   ]
  },
  {
   "cell_type": "code",
   "execution_count": 42,
   "metadata": {},
   "outputs": [
    {
     "name": "stdout",
     "output_type": "stream",
     "text": [
      "[('的', 328262), ('了', 102420), ('是', 73106), ('我', 50338), ('都', 36255), ('很', 34712), ('看', 34022), ('电影', 33675), ('也', 32065), ('和', 31290), ('在', 31245), ('不', 28435), ('有', 27939), ('就', 25685), ('人', 23909), ('好', 22858), ('啊', 20803), ('这', 17484), ('还', 17449), ('一个', 17343), ('你', 17282), ('还是', 16425), ('但', 15578), ('故事', 15010), ('没有', 14343), ('就是', 14007), ('喜欢', 13566), ('让', 13304), ('太', 12676), ('又', 11566), ('剧情', 11359), ('没', 10858), ('说', 10764), ('吧', 10747), ('他', 10675), ('不错', 10416), ('得', 10349), ('到', 10341), ('给', 10300), ('这个', 10058), ('上', 10054), ('被', 9939), ('对', 9824), ('最后', 9694), ('一部', 9693), ('片子', 9590), ('什么', 9571), ('能', 9532), ('与', 9168), ('多', 8977), ('可以', 8972), ('不是', 8811), ('最', 8669), ('觉得', 8626), ('中', 8446), ('导演', 8390), ('自己', 8354), ('拍', 8172), ('好看', 8085), ('要', 8081), ('真的', 7908), ('感觉', 7828), ('但是', 7723), ('里', 7655), ('那', 7503), ('有点', 7479), ('想', 7442), ('这部', 7433), ('会', 7429), ('去', 7295), ('把', 7151), ('着', 7058), ('这么', 6784), ('小', 6626), ('个', 6546), ('而', 6507), ('这样', 6471), ('真是', 6449), ('那么', 6431), ('这种', 6377), ('片', 6333), ('不过', 6292), ('挺', 6244), ('时候', 6216), ('更', 6143), ('比', 6094), ('却', 5990), ('爱', 5909), ('我们', 5875), ('大', 5773), ('像', 5704), ('虽然', 5633), ('演技', 5631), ('其实', 5573), ('看到', 5450), ('知道', 5384), ('再', 5352), ('演员', 5328), ('那个', 5123), ('真', 5119)]\n"
     ]
    }
   ],
   "source": [
    "words_count = Counter(Token)\n",
    "statics = words_count.most_common()[:100]\n",
    "print(statics)"
   ]
  },
  {
   "cell_type": "code",
   "execution_count": 21,
   "metadata": {
    "collapsed": true
   },
   "outputs": [],
   "source": [
    "frequiences = [f for w,f in words_count.most_common(100)]\n",
    "x = [i for i in range(100)]"
   ]
  },
  {
   "cell_type": "code",
   "execution_count": 22,
   "metadata": {
    "collapsed": true
   },
   "outputs": [],
   "source": [
    "%matplotlib inline"
   ]
  },
  {
   "cell_type": "code",
   "execution_count": 23,
   "metadata": {},
   "outputs": [
    {
     "data": {
      "text/plain": [
       "[<matplotlib.lines.Line2D at 0x318bc400>]"
      ]
     },
     "execution_count": 23,
     "metadata": {},
     "output_type": "execute_result"
    },
    {
     "data": {
      "image/png": "[encoded data removed]",
      "text/plain": [
       "<matplotlib.figure.Figure at 0x2d2a8fd0>"
      ]
     },
     "metadata": {},
     "output_type": "display_data"
    }
   ],
   "source": [
    "import matplotlib.pyplot as plt\n",
    "plt.plot(x, frequiences)"
   ]
  },
  {
   "cell_type": "code",
   "execution_count": 24,
   "metadata": {},
   "outputs": [
    {
     "data": {
      "text/plain": [
       "[<matplotlib.lines.Line2D at 0x31b98080>]"
      ]
     },
     "execution_count": 24,
     "metadata": {},
     "output_type": "execute_result"
    },
    {
     "data": {
      "image/png": "[encoded data removed]",
      "text/plain": [
       "<matplotlib.figure.Figure at 0x31b49518>"
      ]
     },
     "metadata": {},
     "output_type": "display_data"
    }
   ],
   "source": [
    "import numpy as np\n",
    "plt.plot(x, np.log(frequiences))"
   ]
  },
  {
   "cell_type": "code",
   "execution_count": 27,
   "metadata": {
    "collapsed": true
   },
   "outputs": [],
   "source": [
    "def prob_1(word):\n",
    "    return words_count[word]/len(Token)"
   ]
  },
  {
   "cell_type": "code",
   "execution_count": 31,
   "metadata": {},
   "outputs": [
    {
     "data": {
      "text/plain": [
       "0.0006055257172495548"
      ]
     },
     "execution_count": 31,
     "metadata": {},
     "output_type": "execute_result"
    }
   ],
   "source": [
    "prob_1('人生')"
   ]
  },
  {
   "cell_type": "code",
   "execution_count": 37,
   "metadata": {},
   "outputs": [
    {
     "data": {
      "text/plain": [
       "['吴京', '意淫', '到', '了', '脑残']"
      ]
     },
     "execution_count": 37,
     "metadata": {},
     "output_type": "execute_result"
    }
   ],
   "source": [
    "Token[:5]"
   ]
  },
  {
   "cell_type": "code",
   "execution_count": 43,
   "metadata": {},
   "outputs": [
    {
     "data": {
      "text/plain": [
       "['吴京意淫', '意淫到', '到了', '了脑残', '脑残的', '的地步', '地步看', '看了', '了恶心', '恶心想']"
      ]
     },
     "execution_count": 43,
     "metadata": {},
     "output_type": "execute_result"
    }
   ],
   "source": [
    "Token = [str(t) for t in Token]\n",
    "Token_2_gram = [''.join(Token[i:i+2]) for i in range(len(Token[:-2]))]\n",
    "Token_2_gram[:10]"
   ]
  },
  {
   "cell_type": "code",
   "execution_count": 46,
   "metadata": {},
   "outputs": [],
   "source": [
    "words_count_2 = Counter(Token_2_gram)"
   ]
  },
  {
   "cell_type": "code",
   "execution_count": 47,
   "metadata": {
    "collapsed": true
   },
   "outputs": [],
   "source": [
    "def prob_1(word):\n",
    "    return words_count[word]/len(Token)"
   ]
  },
  {
   "cell_type": "code",
   "execution_count": 48,
   "metadata": {
    "collapsed": true
   },
   "outputs": [],
   "source": [
    "def prob_2(word1, word2):\n",
    "    if word1 + word2 in words_count_2: \n",
    "        return words_count_2[word1+word2] / len(Token_2_gram)\n",
    "    else:\n",
    "        return 1 / len(Token_2_gram)"
   ]
  },
  {
   "cell_type": "code",
   "execution_count": 49,
   "metadata": {},
   "outputs": [
    {
     "data": {
      "text/plain": [
       "2.2270172377815255e-07"
      ]
     },
     "execution_count": 49,
     "metadata": {},
     "output_type": "execute_result"
    }
   ],
   "source": [
    "prob_2('人生','道路')"
   ]
  },
  {
   "cell_type": "code",
   "execution_count": 50,
   "metadata": {},
   "outputs": [
    {
     "data": {
      "text/plain": [
       "2.3160979272927866e-05"
      ]
     },
     "execution_count": 50,
     "metadata": {},
     "output_type": "execute_result"
    }
   ],
   "source": [
    "prob_2('脑残','粉')"
   ]
  },
  {
   "cell_type": "code",
   "execution_count": 51,
   "metadata": {
    "collapsed": true
   },
   "outputs": [],
   "source": [
    "def get_probablity(sentence):\n",
    "    words = jieba.lcut(sentence)\n",
    "    \n",
    "    sentence_pro = 1\n",
    "    \n",
    "    for i,word in enumerate(words[:-1]):\n",
    "        next_ = words[i+1]\n",
    "        \n",
    "        probability = prob_2(word, next_)\n",
    "        \n",
    "        sentence_pro *= probability\n",
    "    \n",
    "    return sentence_pro"
   ]
  },
  {
   "cell_type": "code",
   "execution_count": 52,
   "metadata": {},
   "outputs": [
    {
     "data": {
      "text/plain": [
       "1.104512755881732e-20"
      ]
     },
     "execution_count": 52,
     "metadata": {},
     "output_type": "execute_result"
    }
   ],
   "source": [
    "get_probablity('上班忘记带水杯')"
   ]
  },
  {
   "cell_type": "code",
   "execution_count": 53,
   "metadata": {},
   "outputs": [
    {
     "data": {
      "text/plain": [
       "1.4346593512168195e-35"
      ]
     },
     "execution_count": 53,
     "metadata": {},
     "output_type": "execute_result"
    }
   ],
   "source": [
    "get_probablity('走着走着就各奔东西了')"
   ]
  },
  {
   "cell_type": "markdown",
   "metadata": {},
   "source": [
    "# 3、获得最优质的语言"
   ]
  },
  {
   "cell_type": "code",
   "execution_count": 59,
   "metadata": {},
   "outputs": [],
   "source": [
    "def generate_best(gen =generate_num1 ,model=get_probablity):\n",
    "    result = [(i,model(i) )for i in gen()]\n",
    "    result1 = sorted(result, key=lambda x: x[1],reverse = True)\n",
    "    return result1 ,'Best:',result1[0]"
   ]
  },
  {
   "cell_type": "code",
   "execution_count": 83,
   "metadata": {},
   "outputs": [
    {
     "data": {
      "text/plain": [
       "([('昨天越来越多的谦词。', 2.751025407887858e-29),\n",
       "  ('生活绝对不会再有任何期待。', 1.4005007952354664e-36),\n",
       "  ('生活太匆忙，急时缓一缓，都不缺乏快意。', 1.426743335772726e-67),\n",
       "  ('人生看淡了，勇敢放弃了，多少的东西。', 1.1438437862423153e-67),\n",
       "  ('人却赢在感恩他变得如此陌生，明天越来越少。', 4.614840536255297e-76),\n",
       "  ('其实自己真正所需要自觉的能力，人就会明媚。', 1.6812135928735513e-76),\n",
       "  ('当有人逼迫你一句好话的意志，心灵上的快乐。', 3.177311562253543e-79),\n",
       "  ('从生来开始，有些人，也说不上到底哪里错了。', 8.893230879154954e-81),\n",
       "  ('有坚定的窗，就圆满了，只是经济上的财富。', 1.452923804422591e-84),\n",
       "  ('当有人逼迫你正在埋怨懊悔，安详而改变是无常。', 1.3920531340358826e-84),\n",
       "  ('人生最大的人生很多的窗，坚持自己想过会和他是刀刀见血。', 5.410701021308941e-90),\n",
       "  ('与其羡慕别人，人生话说好听的坚持，有些人笑在最终。', 1.033375441801902e-91),\n",
       "  ('生活不在于谁都是成功者的，心灵上的路长了，有成长。', 3.465693869502535e-99),\n",
       "  ('昨天越来越多的纠结，才是人生的表现;运，勇敢放弃一些东西。', 1.0051795864395552e-101),\n",
       "  ('生活，却赢在飘渺里填塞的磨砺之后，有些人笑在岁月里化茧成蝶。', 4.839964142419632e-124),\n",
       "  ('人生最大的磨砺之后，不如做好就越能体验到生命中跋涉，也避免不了，每个人的!', 1.1393281788583502e-142),\n",
       "  ('当没有人的埋怨懊悔，就越相信他人，每个人只有努力都做好自己要做的位置空出来，不能糊里糊涂地度过自己的人总要不断成长。',\n",
       "   1.8323895102164962e-210),\n",
       "  ('一个梦想，我们最后都是白费，却很会做人的口袋，只是不会偏爱谁都是你生命，今日旅行，有，却是最大的错误，谁先起跑，只是一种懦弱的放松对自己真正的追求，你要做的!',\n",
       "   2.183809616859306e-308),\n",
       "  ('人生很多美好的生活，人就各奔东西了一句对不起，失落烦恼，但是人圆满的淡定的追求，生命，每天都有意义，安详而不只是经济上的财富生命本是一次的愉悦，你，走着就越能看到世界，人的两个字就是\"现在\"现在\"现在\"，你不好的人在经过很多年后才会秀丽，有些人笑在岁月中跋涉，多少的快乐。',\n",
       "   0.0),\n",
       "  ('总有那么一个人圆满，善待生命里填塞的过程中得罪人才是失败者的人，才是白费，情绪上的贵人,也许你不好的表现;淡定的事物，住在开始，人，我们最后都是不一样，每天都是一场漫长对抗，人都是失败者的改变是刀刀见血。',\n",
       "   0.0)],\n",
       " 'Best:',\n",
       " ('昨天越来越多的谦词。', 2.751025407887858e-29))"
      ]
     },
     "execution_count": 83,
     "metadata": {},
     "output_type": "execute_result"
    }
   ],
   "source": [
    "generate_best(generate_num1,get_probablity)"
   ]
  },
  {
   "cell_type": "code",
   "execution_count": null,
   "metadata": {
    "collapsed": true
   },
   "outputs": [],
   "source": []
  },
  {
   "cell_type": "markdown",
   "metadata": {},
   "source": [
    "结论：通过马尔科夫链训练心灵鸡汤语料，随机生成10句鸡汤句子，并通过语言模型判断10句话中哪句生成概率最高、最合理。根据生成概率最高的句子来看，效果不是很好。生成概率最高的句子是它句子越短，概率越大。"
   ]
  },
  {
   "cell_type": "code",
   "execution_count": null,
   "metadata": {
    "collapsed": true
   },
   "outputs": [],
   "source": []
  }
 ],
 "metadata": {
  "kernelspec": {
   "display_name": "Python 3",
   "language": "python",
   "name": "python3"
  },
  "language_info": {
   "codemirror_mode": {
    "name": "ipython",
    "version": 3
   },
   "file_extension": ".py",
   "mimetype": "text/x-python",
   "name": "python",
   "nbconvert_exporter": "python",
   "pygments_lexer": "ipython3",
   "version": "3.6.3"
  }
 },
 "nbformat": 4,
 "nbformat_minor": 2
}
