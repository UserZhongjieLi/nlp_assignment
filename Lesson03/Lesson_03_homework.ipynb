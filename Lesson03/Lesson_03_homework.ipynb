{
 "cells": [
  {
   "cell_type": "markdown",
   "metadata": {},
   "source": [
    "# 知识问答："
   ]
  },
  {
   "cell_type": "markdown",
   "metadata": {
    "collapsed": true
   },
   "source": [
    "1.为什么我们需要动态规划？动态规划和以前谈过的“搜索”问题有什么区别？\n",
    "\n",
    "答：动态规划是解决最优化问题的，加快找到最优子结构的速度。\n",
    "每个阶段只有一个状态->递推；\n",
    "\n",
    "每个阶段的最优状态都是由上一个阶段的最优状态得到的->贪心；\n",
    "\n",
    "每个阶段的最优状态是由之前所有阶段的状态的组合得到的->搜索；\n",
    "\n",
    "每个阶段的最优状态可以从之前某个阶段的某个或某些状态直接得到而不管之前这个状态是如何得到的->动态规划。\n",
    "\n",
    "2.为什么我们还需要动态规划？ 为什么我们不训练机器学习以适应能够根据输入获得“正确”答案的功能？\n",
    "\n",
    "答：举一个迷宫的例子。在计算从起点到终点的最短路线时，你不能只保存当前阶段的状态，因为题目要求你最短，所以你必须知道之前走过的所有位置。因为即便你当前再的位置不变，之前的路线不同会影响你的之后走的路线。这时你需要保存的是之前每个阶段所经历的那个状态，根据这些信息才能计算出下一个状态。\n",
    "每个阶段的状态或许不多，但是每个状态都可以转移到下一阶段的多个状态，所以解的复杂度就是指数的，因此时间复杂度也是指数的。刚刚提到的之前的路线会影响到下一步的选择，这个令人不开心的情况就叫做有后效性。\n",
    "\n",
    "如何解决以上暴力搜索的情况，降低计算复杂度呢？动态规划可以很好的解决这个问题。\n",
    "\n",
    "机器学习是：如何 从观测数据（样本）中寻找规律，并利用学习到的规律（模型）对未知或无法观测的数据进行预测。我不知道拿什么样的数值型数据用作这样的训练。而其也不满足动态规划的特点。\n",
    "\n",
    "3.你能提出至少3个可以通过动态规划解决的问题吗？\n",
    "\n",
    "答：最优路径问题、字符串相似度/编辑距离、最长公共子序列、硬币找零问题、瓷砖覆盖问题等。\n",
    "\n",
    "4.你可以讲出编辑距离来解决至少3个可能解决的问题吗？\n",
    "\n",
    "答：子串匹配、最长公共子序列、相似度去重、文本纠错等\n",
    "\n",
    "5.请总结动态规划的三个主要特征，并对每个特征做一个简明的解释。\n",
    "\n",
    "答：\n",
    "最优子结构性质。如果问题的最优解所包含的子问题的解也是最优的，我们就称该问题具有最优子结构性质（即满足最优化原理）。最优子结构性质为动态规划算法解决问题提供了重要线索。\n",
    "\n",
    "无后效性。即子问题的解一旦确定，就不再改变，不受在这之后、包含它的更大的问题的求解决策影响。\n",
    "\n",
    "子问题重叠性质。子问题重叠性质是指在用递归算法自顶向下对问题进行求解时，每次产生的子问题并不总是新问题，有些子问题会被重复计算多次。动态规划算法正是利用了这种子问题的重叠性质，对每一个子问题只计算一次，然后将其计算结果保存在一个表格中，当再次需要计算已经计算过的子问题时，只是在表格中简单地查看一下结果，从而获得较高的效率。\n",
    "\n",
    "6.动态规划的缺点是什么？ （您可能需要在Internet上自己搜索）\n",
    "\n",
    "答：\n",
    "1. 没有统一的标准模型；\n",
    "\n",
    "2. 数值方法求解时存在维数灾。\n",
    "\n",
    "3.可能会因递归层数太深导致栈溢出，函数调用带来额外时间开销。"
   ]
  },
  {
   "cell_type": "markdown",
   "metadata": {},
   "source": [
    "# 装饰器、动态规划寻找最优解、编辑距离"
   ]
  },
  {
   "cell_type": "markdown",
   "metadata": {},
   "source": [
    "通过卖钢筋利益最大化问题引入动态规划问题："
   ]
  },
  {
   "cell_type": "code",
   "execution_count": 3,
   "metadata": {
    "collapsed": true
   },
   "outputs": [],
   "source": [
    "original_price = [1, 5, 8, 9, 10, 17, 17, 20, 24, 30, 35]"
   ]
  },
  {
   "cell_type": "code",
   "execution_count": 4,
   "metadata": {
    "collapsed": true
   },
   "outputs": [],
   "source": [
    "from collections import defaultdict"
   ]
  },
  {
   "cell_type": "code",
   "execution_count": 5,
   "metadata": {
    "collapsed": true
   },
   "outputs": [],
   "source": [
    "price = defaultdict(int)"
   ]
  },
  {
   "cell_type": "code",
   "execution_count": 6,
   "metadata": {},
   "outputs": [
    {
     "name": "stdout",
     "output_type": "stream",
     "text": [
      "defaultdict(<class 'int'>, {1: 1, 2: 5, 3: 8, 4: 9, 5: 10, 6: 17, 7: 17, 8: 20, 9: 24, 10: 30, 11: 35})\n"
     ]
    }
   ],
   "source": [
    "for i,p in enumerate(original_price):\n",
    "    price[i+1] = p\n",
    "print(price)"
   ]
  },
  {
   "cell_type": "code",
   "execution_count": 7,
   "metadata": {},
   "outputs": [
    {
     "data": {
      "text/plain": [
       "35"
      ]
     },
     "execution_count": 7,
     "metadata": {},
     "output_type": "execute_result"
    }
   ],
   "source": [
    "price[11]"
   ]
  },
  {
   "cell_type": "markdown",
   "metadata": {},
   "source": [
    "## Get the max splitting by enumerate"
   ]
  },
  {
   "cell_type": "code",
   "execution_count": 8,
   "metadata": {},
   "outputs": [
    {
     "data": {
      "text/plain": [
       "4"
      ]
     },
     "execution_count": 8,
     "metadata": {},
     "output_type": "execute_result"
    }
   ],
   "source": [
    "max(1, 2, 3, 4)"
   ]
  },
  {
   "cell_type": "code",
   "execution_count": 9,
   "metadata": {
    "collapsed": true
   },
   "outputs": [],
   "source": [
    "def example(f, arg):\n",
    "    return f(arg)"
   ]
  },
  {
   "cell_type": "code",
   "execution_count": 10,
   "metadata": {
    "collapsed": true
   },
   "outputs": [],
   "source": [
    "def add_ten(num):\n",
    "    return num + 10"
   ]
  },
  {
   "cell_type": "code",
   "execution_count": 11,
   "metadata": {
    "collapsed": true
   },
   "outputs": [],
   "source": [
    "def mul_ten(num):\n",
    "    return num * 10 "
   ]
  },
  {
   "cell_type": "code",
   "execution_count": 12,
   "metadata": {},
   "outputs": [
    {
     "name": "stdout",
     "output_type": "stream",
     "text": [
      "<function add_ten at 0x00000225F2F77C80>\n",
      "110\n",
      "<function mul_ten at 0x00000225F2F867B8>\n",
      "1000\n"
     ]
    }
   ],
   "source": [
    "operations = [add_ten, mul_ten]\n",
    "\n",
    "for f in operations:\n",
    "    print(f)  #f为add_ten、mul_ten两个函数  \n",
    "    print(example(f, 100))  #打印的是 example(add_ten, 100) 和 example(mul_ten, 100)"
   ]
  },
  {
   "cell_type": "code",
   "execution_count": null,
   "metadata": {
    "collapsed": true
   },
   "outputs": [],
   "source": []
  },
  {
   "cell_type": "code",
   "execution_count": 13,
   "metadata": {
    "collapsed": true
   },
   "outputs": [],
   "source": [
    "#查看r(n)调用了多少次\n",
    "called_time = defaultdict(int)\n",
    "\n",
    "def get_call_times(f):\n",
    "    result = f()\n",
    "    print('function: {} called once! '.format(f.__name__))\n",
    "    called_time[f.__name__] += 1\n",
    "    \n",
    "    return result"
   ]
  },
  {
   "cell_type": "code",
   "execution_count": 14,
   "metadata": {
    "collapsed": true
   },
   "outputs": [],
   "source": [
    "def some_funcion_1():\n",
    "    print('I am function 1')"
   ]
  },
  {
   "cell_type": "code",
   "execution_count": 28,
   "metadata": {},
   "outputs": [
    {
     "name": "stdout",
     "output_type": "stream",
     "text": [
      "I am function 1\n",
      "function: some_funcion_1 called once! \n"
     ]
    }
   ],
   "source": [
    "get_call_times(some_funcion_1)"
   ]
  },
  {
   "cell_type": "code",
   "execution_count": 29,
   "metadata": {},
   "outputs": [
    {
     "data": {
      "text/plain": [
       "defaultdict(int, {'some_funcion_1': 2})"
      ]
     },
     "execution_count": 29,
     "metadata": {},
     "output_type": "execute_result"
    }
   ],
   "source": [
    "called_time"
   ]
  },
  {
   "attachments": {
    "image.png": {
     "image/png": "[encoded data removed]"
    }
   },
   "cell_type": "markdown",
   "metadata": {
    "collapsed": true
   },
   "source": [
    "![image.png](attachment:image.png)"
   ]
  },
  {
   "cell_type": "code",
   "execution_count": 22,
   "metadata": {
    "collapsed": true
   },
   "outputs": [],
   "source": [
    "call_time_with_arg = defaultdict(int)"
   ]
  },
  {
   "cell_type": "code",
   "execution_count": 33,
   "metadata": {
    "collapsed": true
   },
   "outputs": [],
   "source": [
    "def r(n):\n",
    "#     fname = r.__name__             \n",
    "#     call_time_with_arg[(fname, n)] += 1\n",
    "    \n",
    "    return max(\n",
    "        [price[n]] + [r(i) + r(n-i) for i in range(1, n)]\n",
    "    )"
   ]
  },
  {
   "cell_type": "code",
   "execution_count": 30,
   "metadata": {
    "collapsed": true
   },
   "outputs": [],
   "source": [
    "from collections import Counter"
   ]
  },
  {
   "cell_type": "code",
   "execution_count": 38,
   "metadata": {},
   "outputs": [
    {
     "data": {
      "text/plain": [
       "[(('r', 1), 13122),\n",
       " (('r', 2), 4374),\n",
       " (('r', 3), 1458),\n",
       " (('r', 4), 486),\n",
       " (('r', 5), 162),\n",
       " (('r', 6), 54),\n",
       " (('r', 7), 18),\n",
       " (('r', 8), 6),\n",
       " (('r', 9), 2),\n",
       " (('r', 10), 1)]"
      ]
     },
     "execution_count": 38,
     "metadata": {},
     "output_type": "execute_result"
    }
   ],
   "source": [
    "Counter(call_time_with_arg).most_common() #统计调用次数"
   ]
  },
  {
   "cell_type": "code",
   "execution_count": 34,
   "metadata": {},
   "outputs": [
    {
     "data": {
      "text/plain": [
       "30"
      ]
     },
     "execution_count": 34,
     "metadata": {},
     "output_type": "execute_result"
    }
   ],
   "source": [
    "r(10)  #随着n越大，计算量越大"
   ]
  },
  {
   "cell_type": "markdown",
   "metadata": {},
   "source": [
    "# 装饰器"
   ]
  },
  {
   "cell_type": "code",
   "execution_count": 43,
   "metadata": {
    "collapsed": true
   },
   "outputs": [],
   "source": [
    "del call_time_with_arg"
   ]
  },
  {
   "cell_type": "code",
   "execution_count": 62,
   "metadata": {
    "collapsed": true
   },
   "outputs": [],
   "source": [
    "from functools import wraps"
   ]
  },
  {
   "cell_type": "code",
   "execution_count": 66,
   "metadata": {
    "collapsed": true
   },
   "outputs": [],
   "source": [
    "called_time_with_arg = defaultdict(int)\n",
    "\n",
    "def get_call_time(f):\n",
    "    \"\"\"@param f is a function\"\"\"\n",
    "    @wraps(f)\n",
    "    def wrap(n):\n",
    "        \"\"\"Haha I am warp\"\"\"\n",
    "        print('I can count')\n",
    "        result = f(n)\n",
    "        called_time_with_arg[(f.__name__, n)] += 1\n",
    "        return result\n",
    "    return wrap"
   ]
  },
  {
   "cell_type": "code",
   "execution_count": 67,
   "metadata": {
    "collapsed": true
   },
   "outputs": [],
   "source": [
    "def add_ten(n): return n + 10"
   ]
  },
  {
   "cell_type": "code",
   "execution_count": 68,
   "metadata": {},
   "outputs": [
    {
     "data": {
      "text/plain": [
       "20"
      ]
     },
     "execution_count": 68,
     "metadata": {},
     "output_type": "execute_result"
    }
   ],
   "source": [
    "add_ten(10)"
   ]
  },
  {
   "cell_type": "code",
   "execution_count": 69,
   "metadata": {
    "collapsed": true
   },
   "outputs": [],
   "source": [
    "add_ten = get_call_time(add_ten) #可以简写如下"
   ]
  },
  {
   "cell_type": "code",
   "execution_count": 70,
   "metadata": {
    "collapsed": true
   },
   "outputs": [],
   "source": [
    "@get_call_time \n",
    "def add_twenty(n): \n",
    "    return n + 20"
   ]
  },
  {
   "cell_type": "code",
   "execution_count": 71,
   "metadata": {
    "collapsed": true
   },
   "outputs": [],
   "source": [
    "add_twenty = get_call_time(add_twenty)"
   ]
  },
  {
   "cell_type": "code",
   "execution_count": 72,
   "metadata": {},
   "outputs": [
    {
     "name": "stdout",
     "output_type": "stream",
     "text": [
      "I can count\n",
      "I can count\n"
     ]
    },
    {
     "data": {
      "text/plain": [
       "29"
      ]
     },
     "execution_count": 72,
     "metadata": {},
     "output_type": "execute_result"
    }
   ],
   "source": [
    "add_twenty(9)"
   ]
  },
  {
   "cell_type": "markdown",
   "metadata": {},
   "source": [
    "# Dynamic Programming \n",
    "不断查表的意思\n",
    "\n",
    "分析子问题的重复性\n",
    "\n",
    "子问题进行存储\n",
    "\n",
    "Solution 要进行解析"
   ]
  },
  {
   "cell_type": "code",
   "execution_count": 73,
   "metadata": {
    "collapsed": true
   },
   "outputs": [],
   "source": [
    "called_time_with_arg = defaultdict(int)"
   ]
  },
  {
   "cell_type": "code",
   "execution_count": 74,
   "metadata": {
    "collapsed": true
   },
   "outputs": [],
   "source": [
    "solution = {}"
   ]
  },
  {
   "cell_type": "code",
   "execution_count": 81,
   "metadata": {
    "collapsed": true
   },
   "outputs": [],
   "source": [
    "memo.already_computed = {}"
   ]
  },
  {
   "cell_type": "code",
   "execution_count": 80,
   "metadata": {
    "collapsed": true,
    "scrolled": true
   },
   "outputs": [],
   "source": [
    "#@get_call_time\n",
    "@memo\n",
    "def r(n):\n",
    "    \"\"\"\n",
    "    Args: n is the iron length\n",
    "    Return: the max revenue \n",
    "    \"\"\"\n",
    "    max_price, max_split = max(\n",
    "        [(price[n], 0)] + [(r(i) + r(n-i), i) for i in range(1, n)], key=lambda x: x[0]\n",
    "    )\n",
    "\n",
    "    solution[n] = (n - max_split, max_split)\n",
    "    \n",
    "    return max_price"
   ]
  },
  {
   "cell_type": "code",
   "execution_count": 79,
   "metadata": {
    "collapsed": true
   },
   "outputs": [],
   "source": [
    "def memo(f): \n",
    "    memo.already_computed = {}\n",
    "    @wraps(f)\n",
    "    def _wrap(arg):\n",
    "        result = None\n",
    "        \n",
    "        if arg in memo.already_computed: \n",
    "            result = memo.already_computed[arg]\n",
    "        else:\n",
    "            result = f(arg)\n",
    "            memo.already_computed[arg] = result\n",
    "        \n",
    "        return result\n",
    "    \n",
    "    return _wrap"
   ]
  },
  {
   "cell_type": "code",
   "execution_count": 89,
   "metadata": {
    "scrolled": true
   },
   "outputs": [
    {
     "data": {
      "text/plain": [
       "118"
      ]
     },
     "execution_count": 89,
     "metadata": {},
     "output_type": "execute_result"
    }
   ],
   "source": [
    "r(38)"
   ]
  },
  {
   "cell_type": "code",
   "execution_count": 88,
   "metadata": {},
   "outputs": [
    {
     "data": {
      "text/plain": [
       "{1: (1, 0),\n",
       " 2: (2, 0),\n",
       " 3: (3, 0),\n",
       " 4: (2, 2),\n",
       " 5: (3, 2),\n",
       " 6: (6, 0),\n",
       " 7: (6, 1),\n",
       " 8: (6, 2),\n",
       " 9: (6, 3),\n",
       " 10: (10, 0),\n",
       " 11: (11, 0),\n",
       " 12: (11, 1),\n",
       " 13: (11, 2),\n",
       " 14: (11, 3),\n",
       " 15: (13, 2),\n",
       " 16: (14, 2),\n",
       " 17: (11, 6),\n",
       " 18: (17, 1),\n",
       " 19: (17, 2),\n",
       " 20: (17, 3),\n",
       " 21: (11, 10),\n",
       " 22: (11, 11),\n",
       " 23: (22, 1),\n",
       " 24: (22, 2),\n",
       " 25: (22, 3),\n",
       " 26: (24, 2),\n",
       " 27: (25, 2),\n",
       " 28: (22, 6),\n",
       " 29: (28, 1),\n",
       " 30: (28, 2),\n",
       " 31: (28, 3),\n",
       " 32: (22, 10),\n",
       " 33: (22, 11),\n",
       " 34: (33, 1),\n",
       " 35: (33, 2),\n",
       " 36: (33, 3),\n",
       " 37: (35, 2),\n",
       " 38: (36, 2),\n",
       " 39: (33, 6),\n",
       " 40: (39, 1),\n",
       " 41: (39, 2),\n",
       " 42: (39, 3),\n",
       " 43: (33, 10),\n",
       " 44: (33, 11),\n",
       " 45: (44, 1),\n",
       " 46: (44, 2),\n",
       " 47: (44, 3),\n",
       " 48: (46, 2),\n",
       " 49: (47, 2),\n",
       " 50: (44, 6),\n",
       " 51: (50, 1),\n",
       " 52: (50, 2),\n",
       " 53: (50, 3),\n",
       " 54: (44, 10),\n",
       " 55: (44, 11),\n",
       " 56: (55, 1),\n",
       " 57: (55, 2),\n",
       " 58: (55, 3),\n",
       " 59: (57, 2),\n",
       " 60: (58, 2),\n",
       " 61: (55, 6),\n",
       " 62: (61, 1),\n",
       " 63: (61, 2),\n",
       " 64: (61, 3),\n",
       " 65: (55, 10),\n",
       " 66: (55, 11),\n",
       " 67: (66, 1),\n",
       " 68: (66, 2),\n",
       " 69: (66, 3),\n",
       " 70: (68, 2),\n",
       " 71: (69, 2),\n",
       " 72: (66, 6),\n",
       " 73: (72, 1),\n",
       " 74: (72, 2),\n",
       " 75: (72, 3),\n",
       " 76: (66, 10),\n",
       " 77: (66, 11),\n",
       " 78: (77, 1),\n",
       " 79: (77, 2),\n",
       " 80: (77, 3),\n",
       " 81: (79, 2),\n",
       " 82: (80, 2),\n",
       " 83: (77, 6),\n",
       " 84: (83, 1),\n",
       " 85: (83, 2),\n",
       " 86: (83, 3),\n",
       " 87: (77, 10),\n",
       " 88: (77, 11),\n",
       " 89: (88, 1),\n",
       " 90: (88, 2),\n",
       " 91: (88, 3),\n",
       " 92: (90, 2),\n",
       " 93: (91, 2),\n",
       " 94: (88, 6),\n",
       " 95: (94, 1),\n",
       " 96: (94, 2),\n",
       " 97: (94, 3),\n",
       " 98: (88, 10),\n",
       " 99: (88, 11),\n",
       " 100: (99, 1),\n",
       " 101: (99, 2),\n",
       " 102: (99, 3),\n",
       " 103: (101, 2),\n",
       " 104: (102, 2),\n",
       " 105: (99, 6),\n",
       " 106: (105, 1),\n",
       " 107: (105, 2),\n",
       " 108: (105, 3),\n",
       " 109: (99, 10),\n",
       " 110: (99, 11),\n",
       " 111: (110, 1),\n",
       " 112: (110, 2),\n",
       " 113: (110, 3),\n",
       " 114: (112, 2),\n",
       " 115: (113, 2),\n",
       " 116: (110, 6),\n",
       " 117: (116, 1),\n",
       " 118: (116, 2),\n",
       " 119: (116, 3),\n",
       " 120: (110, 10),\n",
       " 121: (110, 11),\n",
       " 122: (121, 1),\n",
       " 123: (121, 2),\n",
       " 124: (121, 3),\n",
       " 125: (123, 2),\n",
       " 126: (124, 2),\n",
       " 127: (121, 6),\n",
       " 128: (127, 1),\n",
       " 129: (127, 2),\n",
       " 130: (127, 3),\n",
       " 131: (121, 10),\n",
       " 132: (121, 11),\n",
       " 133: (132, 1),\n",
       " 134: (132, 2),\n",
       " 135: (132, 3),\n",
       " 136: (134, 2),\n",
       " 137: (135, 2),\n",
       " 138: (132, 6),\n",
       " 139: (138, 1),\n",
       " 140: (138, 2),\n",
       " 141: (138, 3),\n",
       " 142: (132, 10),\n",
       " 143: (132, 11),\n",
       " 144: (143, 1),\n",
       " 145: (143, 2),\n",
       " 146: (143, 3),\n",
       " 147: (145, 2),\n",
       " 148: (146, 2),\n",
       " 149: (143, 6),\n",
       " 150: (149, 1),\n",
       " 151: (149, 2),\n",
       " 152: (149, 3),\n",
       " 153: (143, 10),\n",
       " 154: (143, 11),\n",
       " 155: (154, 1),\n",
       " 156: (154, 2),\n",
       " 157: (154, 3),\n",
       " 158: (156, 2),\n",
       " 159: (157, 2),\n",
       " 160: (154, 6),\n",
       " 161: (160, 1),\n",
       " 162: (160, 2),\n",
       " 163: (160, 3),\n",
       " 164: (154, 10),\n",
       " 165: (154, 11),\n",
       " 166: (165, 1),\n",
       " 167: (165, 2),\n",
       " 168: (165, 3),\n",
       " 169: (167, 2),\n",
       " 170: (168, 2),\n",
       " 171: (165, 6),\n",
       " 172: (171, 1),\n",
       " 173: (171, 2),\n",
       " 174: (171, 3),\n",
       " 175: (165, 10),\n",
       " 176: (165, 11),\n",
       " 177: (176, 1),\n",
       " 178: (176, 2),\n",
       " 179: (176, 3),\n",
       " 180: (178, 2),\n",
       " 181: (179, 2),\n",
       " 182: (176, 6),\n",
       " 183: (182, 1),\n",
       " 184: (182, 2),\n",
       " 185: (182, 3),\n",
       " 186: (176, 10),\n",
       " 187: (176, 11),\n",
       " 188: (187, 1),\n",
       " 189: (187, 2),\n",
       " 190: (187, 3),\n",
       " 191: (189, 2),\n",
       " 192: (190, 2),\n",
       " 193: (187, 6),\n",
       " 194: (193, 1),\n",
       " 195: (193, 2),\n",
       " 196: (193, 3),\n",
       " 197: (187, 10),\n",
       " 198: (187, 11),\n",
       " 199: (198, 1),\n",
       " 200: (198, 2),\n",
       " 201: (198, 3),\n",
       " 202: (200, 2),\n",
       " 203: (201, 2),\n",
       " 204: (198, 6),\n",
       " 205: (204, 1),\n",
       " 206: (204, 2),\n",
       " 207: (204, 3),\n",
       " 208: (198, 10),\n",
       " 209: (198, 11),\n",
       " 210: (209, 1),\n",
       " 211: (209, 2),\n",
       " 212: (209, 3),\n",
       " 213: (211, 2),\n",
       " 214: (212, 2),\n",
       " 215: (209, 6),\n",
       " 216: (215, 1),\n",
       " 217: (215, 2),\n",
       " 218: (215, 3),\n",
       " 219: (209, 10),\n",
       " 220: (209, 11),\n",
       " 221: (220, 1),\n",
       " 222: (220, 2),\n",
       " 223: (220, 3),\n",
       " 224: (222, 2),\n",
       " 225: (223, 2),\n",
       " 226: (220, 6),\n",
       " 227: (226, 1),\n",
       " 228: (226, 2),\n",
       " 229: (226, 3),\n",
       " 230: (220, 10),\n",
       " 231: (220, 11),\n",
       " 232: (231, 1),\n",
       " 233: (231, 2),\n",
       " 234: (231, 3)}"
      ]
     },
     "execution_count": 88,
     "metadata": {},
     "output_type": "execute_result"
    }
   ],
   "source": [
    "solution"
   ]
  },
  {
   "cell_type": "code",
   "execution_count": 87,
   "metadata": {
    "collapsed": true
   },
   "outputs": [],
   "source": [
    "def parse_solution(n):\n",
    "    left_split, right_split = solution[n]\n",
    "    \n",
    "    if right_split == 0: return [left_split]\n",
    "    \n",
    "    return parse_solution(left_split) + parse_solution(right_split)"
   ]
  },
  {
   "cell_type": "code",
   "execution_count": 85,
   "metadata": {},
   "outputs": [
    {
     "data": {
      "text/plain": [
       "743"
      ]
     },
     "execution_count": 85,
     "metadata": {},
     "output_type": "execute_result"
    }
   ],
   "source": [
    "r(234)"
   ]
  },
  {
   "cell_type": "code",
   "execution_count": 90,
   "metadata": {
    "scrolled": true
   },
   "outputs": [
    {
     "data": {
      "text/plain": [
       "[11,\n",
       " 11,\n",
       " 11,\n",
       " 11,\n",
       " 11,\n",
       " 11,\n",
       " 11,\n",
       " 11,\n",
       " 11,\n",
       " 11,\n",
       " 11,\n",
       " 11,\n",
       " 11,\n",
       " 11,\n",
       " 11,\n",
       " 11,\n",
       " 11,\n",
       " 11,\n",
       " 11,\n",
       " 11,\n",
       " 11,\n",
       " 3]"
      ]
     },
     "execution_count": 90,
     "metadata": {},
     "output_type": "execute_result"
    }
   ],
   "source": [
    "parse_solution(234)"
   ]
  },
  {
   "cell_type": "markdown",
   "metadata": {},
   "source": [
    "# 编辑距离\n",
    "##动态规划之编辑距离"
   ]
  },
  {
   "cell_type": "markdown",
   "metadata": {
    "collapsed": true
   },
   "source": [
    "#functools.lru_cache的作用主要是用来做缓存，它能把相对耗时的函数结果进行保存，避免传入相同的参数重复计算。同时，缓存并不会无限增长，不用的缓存会被释放。"
   ]
  },
  {
   "cell_type": "code",
   "execution_count": 1,
   "metadata": {
    "collapsed": true
   },
   "outputs": [],
   "source": [
    "from functools import lru_cache"
   ]
  },
  {
   "cell_type": "code",
   "execution_count": 11,
   "metadata": {
    "collapsed": true
   },
   "outputs": [],
   "source": [
    "solution = {}"
   ]
  },
  {
   "cell_type": "code",
   "execution_count": 12,
   "metadata": {
    "collapsed": true
   },
   "outputs": [],
   "source": [
    "@lru_cache(maxsize=2**10)\n",
    "def edit_distance(string1, string2):\n",
    "    \n",
    "    if len(string1) == 0: return len(string2)\n",
    "    if len(string2) == 0: return len(string1)\n",
    "    \n",
    "    tail_s1 = string1[-1]\n",
    "    tail_s2 = string2[-1]\n",
    "    \n",
    "    candidates = [\n",
    "        (edit_distance(string1[:-1], string2) + 1, 'DEL {}'.format(tail_s1)),  # string 1 delete tail\n",
    "        (edit_distance(string1, string2[:-1]) + 1, 'ADD {}'.format(tail_s2)),  # string 1 add tail of string2\n",
    "    ]\n",
    "    \n",
    "    if tail_s1 == tail_s2:\n",
    "        both_forward = (edit_distance(string1[:-1], string2[:-1]) + 0, '')\n",
    "    else:\n",
    "        both_forward = (edit_distance(string1[:-1], string2[:-1]) + 1, 'SUB {} => {}'.format(tail_s1, tail_s2))\n",
    "\n",
    "    candidates.append(both_forward)\n",
    "    print(candidates)\n",
    "    min_distance, operation = min(candidates, key=lambda x: x[0])\n",
    "    \n",
    "    solution[(string1, string2)] = operation \n",
    "    \n",
    "    return min_distance"
   ]
  },
  {
   "cell_type": "code",
   "execution_count": 13,
   "metadata": {},
   "outputs": [
    {
     "name": "stdout",
     "output_type": "stream",
     "text": [
      "[(2, 'DEL 人'), (2, 'ADD 人'), (0, '')]\n",
      "[(3, 'DEL 人'), (1, 'ADD 工'), (2, 'SUB 人 => 工')]\n",
      "[(4, 'DEL 人'), (2, 'ADD 智'), (3, 'SUB 人 => 智')]\n",
      "[(5, 'DEL 人'), (3, 'ADD 障'), (4, 'SUB 人 => 障')]\n",
      "[(1, 'DEL 工'), (3, 'ADD 人'), (2, 'SUB 工 => 人')]\n",
      "[(2, 'DEL 工'), (2, 'ADD 工'), (0, '')]\n",
      "[(3, 'DEL 工'), (1, 'ADD 智'), (2, 'SUB 工 => 智')]\n",
      "[(4, 'DEL 工'), (2, 'ADD 障'), (3, 'SUB 工 => 障')]\n",
      "[(2, 'DEL 智'), (4, 'ADD 人'), (3, 'SUB 智 => 人')]\n",
      "[(1, 'DEL 智'), (3, 'ADD 工'), (2, 'SUB 智 => 工')]\n",
      "[(2, 'DEL 智'), (2, 'ADD 智'), (0, '')]\n",
      "[(3, 'DEL 智'), (1, 'ADD 障'), (2, 'SUB 智 => 障')]\n",
      "[(3, 'DEL 能'), (5, 'ADD 人'), (4, 'SUB 能 => 人')]\n",
      "[(2, 'DEL 能'), (4, 'ADD 工'), (3, 'SUB 能 => 工')]\n",
      "[(1, 'DEL 能'), (3, 'ADD 智'), (2, 'SUB 能 => 智')]\n",
      "[(2, 'DEL 能'), (2, 'ADD 障'), (1, 'SUB 能 => 障')]\n"
     ]
    },
    {
     "data": {
      "text/plain": [
       "1"
      ]
     },
     "execution_count": 13,
     "metadata": {},
     "output_type": "execute_result"
    }
   ],
   "source": [
    "edit_distance('人工智能', '人工智障')"
   ]
  },
  {
   "cell_type": "code",
   "execution_count": 14,
   "metadata": {
    "scrolled": true
   },
   "outputs": [
    {
     "data": {
      "text/plain": [
       "{('人', '人'): '',\n",
       " ('人', '人工'): 'ADD 工',\n",
       " ('人', '人工智'): 'ADD 智',\n",
       " ('人', '人工智障'): 'ADD 障',\n",
       " ('人工', '人'): 'DEL 工',\n",
       " ('人工', '人工'): '',\n",
       " ('人工', '人工智'): 'ADD 智',\n",
       " ('人工', '人工智障'): 'ADD 障',\n",
       " ('人工智', '人'): 'DEL 智',\n",
       " ('人工智', '人工'): 'DEL 智',\n",
       " ('人工智', '人工智'): '',\n",
       " ('人工智', '人工智障'): 'ADD 障',\n",
       " ('人工智能', '人'): 'DEL 能',\n",
       " ('人工智能', '人工'): 'DEL 能',\n",
       " ('人工智能', '人工智'): 'DEL 能',\n",
       " ('人工智能', '人工智障'): 'SUB 能 => 障'}"
      ]
     },
     "execution_count": 14,
     "metadata": {},
     "output_type": "execute_result"
    }
   ],
   "source": [
    "solution"
   ]
  },
  {
   "cell_type": "markdown",
   "metadata": {},
   "source": [
    "编辑距离（Edit Distance），又称Levenshtein距离，是指两个字串之间，由一个转成另一个所需的最少编辑操作次数。许可的编辑操作包括将一个字符替换成另一个字符，插入一个字符，删除一个字符。每进行一次操作，计数+1。\n",
    "\n",
    "将S和T变为同一个字符串的最小计数即为它们的距离。给出相应算法。\n",
    "\n",
    "解法：\n",
    "　　\n",
    "  将S和T的长度分别记为len(S)和len(T)，并把S和T的距离记为m[len(S)][len(T)]，有以下几种情况：\n",
    "\n",
    "如果末尾字符相同，那么m[len(S)][len(T)]=m[len(S)-1][len(T)-1]；\n",
    "\n",
    "如果末尾字符不同，有以下处理方式\n",
    "　　\n",
    "  修改S或T末尾字符使其与另一个一致来完成，m[len(S)][len(T)]=m[len(S)-1][len(T)-1]+1；\n",
    "　　\n",
    "  在S末尾插入T末尾的字符，比较S[1...len(S)]和S[1...len(T)-1]；\n",
    "　　\n",
    "  在T末尾插入S末尾的字符，比较S[1...len(S)-1]和S[1...len(T)]；\n",
    "　　\n",
    "  删除S末尾的字符，比较S[1...len(S)-1]和S[1...len(T)]；\n",
    "　　\n",
    "  删除T末尾的字符，比较S[1...len(S)]和S[1...len(T)-1]；\n",
    "　　\n",
    "  总结为，对于i>0,j>0的状态(i,j),m[i][j] = min( m[i-1][j-1]+(s[i]==s[j])?0:1 , m[i-1][j]+1, m[i][j-1] +1)。\n",
    "　　\n",
    "  这里的重叠子结构是S[1...i]，T[1...j]。"
   ]
  },
  {
   "cell_type": "markdown",
   "metadata": {},
   "source": [
    "# #Python中的Levenshtein包可以方便的计算编辑距离"
   ]
  },
  {
   "cell_type": "markdown",
   "metadata": {},
   "source": [
    "Levenshtein.distance(str1, str2)\n",
    "\n",
    "计算编辑距离（也成Levenshtein距离）。是描述由一个字串转化成另一个字串最少的操作次数，在其中的操作包括插入、删除、替换。算法实现：动态规划。\n",
    "Levenshtein.hamming(str1, str2)\n",
    "\n",
    "计算汉明距离。要求str1和str2必须长度一致。是描述两个等长字串之间对应位置上不同字符的个数。\n",
    "Levenshtein.ratio(str1, str2)\n",
    "\n",
    "计算莱文斯坦比。计算公式  r = (sum – ldist) / sum, 其中sum是指str1 和 str2 字串的长度总和，ldist是类编辑距离。注意这里是类编辑距离，在类编辑距离中删除、插入依然+1，但是替换+2。\n",
    "\n",
    "Levenshtein.jaro(s1, s2)\n",
    "计算jaro距离，Jaro Distance据说是用来判定健康记录上两个名字是否相同，也有说是是用于人口普查。"
   ]
  },
  {
   "cell_type": "markdown",
   "metadata": {},
   "source": [
    "代码如下："
   ]
  },
  {
   "cell_type": "code",
   "execution_count": 18,
   "metadata": {},
   "outputs": [
    {
     "name": "stdout",
     "output_type": "stream",
     "text": [
      "1\n",
      "1\n",
      "0.75\n",
      "0.8333333333333334\n"
     ]
    }
   ],
   "source": [
    "# -*- coding:utf-8 -*-\n",
    "import Levenshtein\n",
    "texta = u'人工智能'\n",
    "textb = u'人工智障'\n",
    "print(Levenshtein.distance(texta,textb))  \n",
    "\n",
    "print(Levenshtein.hamming(texta,textb))\n",
    "\n",
    "print(Levenshtein.ratio(texta,textb))\n",
    "\n",
    "print(Levenshtein.jaro(texta,textb))"
   ]
  },
  {
   "cell_type": "code",
   "execution_count": 17,
   "metadata": {},
   "outputs": [
    {
     "name": "stdout",
     "output_type": "stream",
     "text": [
      "Collecting python-Levenshtein\n",
      "  Downloading https://files.pythonhosted.org/packages/42/a9/d1785c85ebf9b7dfacd08938dd028209c34a0ea3b1bcdb895208bd40a67d/python-Levenshtein-0.12.0.tar.gz (48kB)\n",
      "Requirement already satisfied: setuptools in d:\\anaconda3\\lib\\site-packages (from python-Levenshtein)\n",
      "Building wheels for collected packages: python-Levenshtein\n",
      "  Running setup.py bdist_wheel for python-Levenshtein: started\n",
      "  Running setup.py bdist_wheel for python-Levenshtein: finished with status 'done'\n",
      "  Stored in directory: C:\\Users\\Awen\\AppData\\Local\\pip\\Cache\\wheels\\de\\c2\\93\\660fd5f7559049268ad2dc6d81c4e39e9e36518766eaf7e342\n",
      "Successfully built python-Levenshtein\n",
      "Installing collected packages: python-Levenshtein\n",
      "Successfully installed python-Levenshtein-0.12.0\n"
     ]
    },
    {
     "name": "stderr",
     "output_type": "stream",
     "text": [
      "You are using pip version 9.0.1, however version 19.2.1 is available.\n",
      "You should consider upgrading via the 'python -m pip install --upgrade pip' command.\n"
     ]
    }
   ],
   "source": [
    "!pip install python-Levenshtein"
   ]
  }
 ],
 "metadata": {
  "kernelspec": {
   "display_name": "Python 3",
   "language": "python",
   "name": "python3"
  },
  "language_info": {
   "codemirror_mode": {
    "name": "ipython",
    "version": 3
   },
   "file_extension": ".py",
   "mimetype": "text/x-python",
   "name": "python",
   "nbconvert_exporter": "python",
   "pygments_lexer": "ipython3",
   "version": "3.6.3"
  }
 },
 "nbformat": 4,
 "nbformat_minor": 2
}
